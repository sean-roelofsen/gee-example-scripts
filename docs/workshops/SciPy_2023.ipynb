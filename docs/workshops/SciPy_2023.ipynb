{
  "cells": [
    {
      "cell_type": "markdown",
      "metadata": {
        "id": "view-in-github",
        "colab_type": "text"
      },
      "source": [
        "<a href=\"https://colab.research.google.com/github/sean-roelofsen/gee-example-scripts/blob/master/docs/workshops/SciPy_2023.ipynb\" target=\"_parent\"><img src=\"https://colab.research.google.com/assets/colab-badge.svg\" alt=\"Open In Colab\"/></a>"
      ]
    },
    {
      "cell_type": "markdown",
      "metadata": {
        "id": "bLN6SqWkp-1i"
      },
      "source": [
        "[![image](https://colab.research.google.com/assets/colab-badge.svg)](https://colab.research.google.com/github/gee-community/geemap/blob/master/docs/workshops/SciPy_2023.ipynb)\n",
        "\n",
        "**An Introduction to Cloud-Based Geospatial Analysis with Earth Engine and Geemap**\n",
        "\n",
        "* Notebook: <https://geemap.org/workshops/SciPy_2023>\n",
        "* Earth Engine: <https://earthengine.google.com>\n",
        "* Geemap: <https://geemap.org>\n",
        "\n",
        "## Introduction  (10 mins)\n",
        "\n",
        "This notebook is for the tutorial presented at the [SciPy 2023](https://www.scipy2023.org/) Conference by Qiusheng Wu and Steve Greenberg. Check out [this link](https://cfp.scipy.org/2023/talk/GQ7PG3/) for more information about the tutorial.\n",
        "\n",
        "### Abstract\n",
        "\n",
        "This tutorial is an introduction to cloud-based geospatial analysis with Earth Engine and the geemap Python package. We will cover the basics of Earth Engine data types and how to visualize, analyze, and export Earth Engine data in a Jupyter environment using geemap. We will also demonstrate how to develop and deploy interactive Earth Engine web apps. Throughout the session, practical examples and hands-on exercises will be provided to enhance learning. The attendees should have a basic understanding of Python and Jupyter Notebooks. Familiarity with Earth science and geospatial datasets is not required, but will be useful.\n",
        "\n",
        "\n",
        "### Prerequisites\n",
        "\n",
        "To use geemap and the Earth Engine Python API, you must [register](https://code.earthengine.google.com/register) for an Earth Engine account and follow the instructions [here](https://docs.google.com/document/d/1ZGSmrNm6_baqd8CHt33kIBWOlvkh-HLr46bODgJN1h0/edit?usp=sharing) to create a Cloud Project. Earth Engine is free for [noncommercial and research use](https://earthengine.google.com/noncommercial). To test whether you can use authenticate the Earth Engine Python API, please run [this notebook](https://colab.research.google.com/github/giswqs/geemap/blob/master/examples/notebooks/geemap_colab.ipynb) on Google Colab.\n",
        "\n",
        "### Prior Python Programming Level of Knowledge Expected\n",
        "\n",
        "The attendees are expected to have a basic understanding of Python and Jupyter Notebook. Familiarity with Earth science and geospatial datasets is not necessary, but it will be helpful.\n",
        "\n",
        "### G4G Summit Tickets\n",
        "\n",
        "We offer two [Geo for Good (G4G) Summit](https://earthoutreachonair.withgoogle.com/events/geoforgood23) tickets to attendees of the EE SciPy workshop. The G4G Summit will be held on October 11-12, 2023, at the Google campus in Mountain View, CA. The link to express your interest in the tickets will be provided during the workshop.\n",
        "\n",
        "## Introduction to Earth Engine and geemap (15 mins)\n",
        "\n",
        "Earth Engine is free for [noncommercial and research use](https://earthengine.google.com/noncommercial). For more than a decade, Earth Engine has enabled planetary-scale Earth data science and analysis by nonprofit organizations, research scientists, and other impact users.\n",
        "\n",
        "With the launch of Earth Engine for [commercial use](https://earthengine.google.com/commercial), commercial customers will be charged for Earth Engine services. However, Earth Engine will remain free of charge for noncommercial use and research projects. Nonprofit organizations, academic institutions, educators, news media, Indigenous governments, and government researchers are eligible to use Earth Engine free of charge, just as they have done for over a decade.\n",
        "\n",
        "The geemap Python package is built upon the Earth Engine Python API and open-source mapping libraries. It allows Earth Engine users to interactively manipulate, analyze, and visualize geospatial big data in a Jupyter environment. Since its creation in April 2020, geemap has received over 2,700 GitHub stars and is being used by over 900 projects on GitHub.\n",
        "\n",
        "## Google Colab and Earth Engine Python API authentication (5 mins)\n",
        "\n",
        "[![image](https://colab.research.google.com/assets/colab-badge.svg)](https://colab.research.google.com/github/gee-community/geemap/blob/master/docs/workshops/SciPy_2023.ipynb)\n",
        "\n",
        "### Install geemap\n",
        "\n",
        "Uncomment the following line to install geemap if you are running this notebook in Google Colab."
      ],
      "id": "bLN6SqWkp-1i"
    },
    {
      "cell_type": "code",
      "execution_count": null,
      "metadata": {
        "id": "ibSg0TeYp-1q"
      },
      "outputs": [],
      "source": [
        "# %pip install geemap[workshop]"
      ],
      "id": "ibSg0TeYp-1q"
    },
    {
      "cell_type": "markdown",
      "metadata": {
        "id": "MeCpZiS1p-1t"
      },
      "source": [
        "### Import libraries"
      ],
      "id": "MeCpZiS1p-1t"
    },
    {
      "cell_type": "code",
      "execution_count": null,
      "metadata": {
        "id": "DA_8VUMop-1u"
      },
      "outputs": [],
      "source": [
        "import ee\n",
        "import geemap"
      ],
      "id": "DA_8VUMop-1u"
    },
    {
      "cell_type": "markdown",
      "metadata": {
        "id": "Iu8zC-i1p-1v"
      },
      "source": [
        "### Authenticate and initialize Earth Engine\n",
        "\n",
        "You will need to create a [Google Cloud Project](https://console.cloud.google.com/projectcreate) and enable the [Earth Engine API](https://console.cloud.google.com/apis/api/earthengine.googleapis.com) for the project. You can find detailed instructions [here](https://book.geemap.org/chapters/01_introduction.html#earth-engine-authentication)."
      ],
      "id": "Iu8zC-i1p-1v"
    },
    {
      "cell_type": "code",
      "execution_count": null,
      "metadata": {
        "id": "z6uwpfiNp-1v"
      },
      "outputs": [],
      "source": [
        "geemap.ee_initialize()"
      ],
      "id": "z6uwpfiNp-1v"
    },
    {
      "cell_type": "markdown",
      "metadata": {
        "id": "N8nMDdvXp-1w"
      },
      "source": [
        "## Creating interactive maps\n",
        "\n",
        "Let's create an interactive map using the `ipyleaflet` plotting backend. The [`geemap.Map`](https://geemap.org/geemap/#geemap.geemap.Map) class inherits the [`ipyleaflet.Map`](https://ipyleaflet.readthedocs.io/en/latest/map_and_basemaps/map.html) class. Therefore, you can use the same syntax to create an interactive map as you would with `ipyleaflet.Map`."
      ],
      "id": "N8nMDdvXp-1w"
    },
    {
      "cell_type": "code",
      "execution_count": null,
      "metadata": {
        "id": "YgZ2Vqkwp-1x"
      },
      "outputs": [],
      "source": [
        "Map = geemap.Map()"
      ],
      "id": "YgZ2Vqkwp-1x"
    },
    {
      "cell_type": "markdown",
      "metadata": {
        "id": "A_t1VQWap-1x"
      },
      "source": [
        "To display it in a Jupyter notebook, simply ask for the object representation:"
      ],
      "id": "A_t1VQWap-1x"
    },
    {
      "cell_type": "code",
      "execution_count": null,
      "metadata": {
        "id": "bq_B6DSBp-1y"
      },
      "outputs": [],
      "source": [
        "Map"
      ],
      "id": "bq_B6DSBp-1y"
    },
    {
      "cell_type": "markdown",
      "metadata": {
        "id": "RnxGK2AHp-1y"
      },
      "source": [
        "To customize the map, you can specify various keyword arguments, such as `center` ([lat, lon]), `zoom`, `width`, and `height`. The default `width` is `100%`, which takes up the entire cell width of the Jupyter notebook. The `height` argument accepts a number or a string. If a number is provided, it represents the height of the map in pixels. If a string is provided, the string must be in the format of a number followed by `px`, e.g., `600px`."
      ],
      "id": "RnxGK2AHp-1y"
    },
    {
      "cell_type": "code",
      "execution_count": null,
      "metadata": {
        "id": "3V6Lms-ap-1z"
      },
      "outputs": [],
      "source": [
        "Map = geemap.Map(center=[40, -100], zoom=4, height=600)\n",
        "Map"
      ],
      "id": "3V6Lms-ap-1z"
    },
    {
      "cell_type": "markdown",
      "metadata": {
        "id": "eL4GizMkp-1z"
      },
      "source": [
        "To hide a control, set `control_name` to `False`, e.g., `draw_ctrl=False`."
      ],
      "id": "eL4GizMkp-1z"
    },
    {
      "cell_type": "code",
      "execution_count": null,
      "metadata": {
        "id": "r6NB88Qup-1z"
      },
      "outputs": [],
      "source": [
        "Map = geemap.Map(data_ctrl=False, toolbar_ctrl=False, draw_ctrl=False)\n",
        "Map"
      ],
      "id": "r6NB88Qup-1z"
    },
    {
      "cell_type": "markdown",
      "metadata": {
        "id": "CFLxsfCYp-1z"
      },
      "source": [
        "### Adding basemaps\n",
        "\n",
        "There are several ways to add basemaps to a map. You can specify the basemap to use in the `basemap` keyword argument when creating the map. Alternatively, you can add basemap layers to the map using the `add_basemap` method. Geemap has hundreds of built-in basemaps available that can be easily added to the map with only one line of code.\n",
        "\n",
        "Create a map by specifying the basemap to use as follows. For example, the `Esri.WorldImagery` basemap represents the Esri world imagery basemap."
      ],
      "id": "CFLxsfCYp-1z"
    },
    {
      "cell_type": "code",
      "execution_count": null,
      "metadata": {
        "id": "IS1CzlHLp-10"
      },
      "outputs": [],
      "source": [
        "Map = geemap.Map(basemap='Esri.WorldImagery')\n",
        "Map"
      ],
      "id": "IS1CzlHLp-10"
    },
    {
      "cell_type": "markdown",
      "metadata": {
        "id": "Y29NKFPUp-10"
      },
      "source": [
        "You can add as many basemaps as you like to the map. For example, the following code adds the `OpenTopoMap` basemap to the map above:"
      ],
      "id": "Y29NKFPUp-10"
    },
    {
      "cell_type": "code",
      "execution_count": null,
      "metadata": {
        "id": "cT07wLpfp-10"
      },
      "outputs": [],
      "source": [
        "Map.add_basemap('OpenTopoMap')"
      ],
      "id": "cT07wLpfp-10"
    },
    {
      "cell_type": "markdown",
      "metadata": {
        "id": "TMZcdvifp-10"
      },
      "source": [
        "Print out the first 10 basemaps:"
      ],
      "id": "TMZcdvifp-10"
    },
    {
      "cell_type": "code",
      "execution_count": null,
      "metadata": {
        "id": "reolGTgip-10"
      },
      "outputs": [],
      "source": [
        "basemaps = list(geemap.basemaps.keys())\n",
        "len(geemap.basemaps)"
      ],
      "id": "reolGTgip-10"
    },
    {
      "cell_type": "code",
      "execution_count": null,
      "metadata": {
        "id": "-_iebOtJp-11"
      },
      "outputs": [],
      "source": [
        "basemaps[:10]"
      ],
      "id": "-_iebOtJp-11"
    },
    {
      "cell_type": "markdown",
      "metadata": {
        "id": "r3QIkW04p-11"
      },
      "source": [
        "## Using Earth Engine data (30 mins)\n",
        "\n",
        "### Earth Engine data types (Image, ImageCollection, Geometry, Feature, FeatureCollection)\n",
        "\n",
        "Earth Engine objects are server-side objects rather than client-side objects, which means that they are not stored locally on your computer. Similar to video streaming services (e.g., YouTube, Netflix, and Hulu), which store videos/movies on their servers, Earth Engine data are stored on the Earth Engine servers. We can stream geospatial data from Earth Engine on-the-fly without having to download the data just like we can watch videos from streaming services using a web browser without having to download the entire video to your computer.\n",
        "\n",
        "-   **Image**: the fundamental raster data type in Earth Engine.\n",
        "-   **ImageCollection**: a stack or time-series of images.\n",
        "-   **Geometry**: the fundamental vector data type in Earth Engine.\n",
        "-   **Feature**: a Geometry with attributes.\n",
        "-   **FeatureCollection**: a set of features.\n",
        "\n",
        "### Image\n",
        "\n",
        "Raster data in Earth Engine are represented as **Image** objects. Images are composed of one or more bands and each band has its own name, data type, scale, mask and projection. Each image has metadata stored as a set of properties.\n",
        "\n",
        "#### Loading Earth Engine images"
      ],
      "id": "r3QIkW04p-11"
    },
    {
      "cell_type": "code",
      "execution_count": null,
      "metadata": {
        "id": "nfQJ646Lp-11"
      },
      "outputs": [],
      "source": [
        "image = ee.Image('USGS/SRTMGL1_003')\n",
        "image"
      ],
      "id": "nfQJ646Lp-11"
    },
    {
      "cell_type": "markdown",
      "metadata": {
        "id": "p-YFw4_up-11"
      },
      "source": [
        "#### Visualizing Earth Engine images"
      ],
      "id": "p-YFw4_up-11"
    },
    {
      "cell_type": "code",
      "execution_count": null,
      "metadata": {
        "id": "7qcCR2_gp-11"
      },
      "outputs": [],
      "source": [
        "Map = geemap.Map(center=[21.79, 70.87], zoom=3)\n",
        "image = ee.Image('USGS/SRTMGL1_003')\n",
        "vis_params = {\n",
        "    'min': 0,\n",
        "    'max': 6000,\n",
        "    'palette': ['006633', 'E5FFCC', '662A00', 'D8D8D8', 'F5F5F5'],\n",
        "}\n",
        "Map.addLayer(image, vis_params, 'SRTM')\n",
        "Map"
      ],
      "id": "7qcCR2_gp-11"
    },
    {
      "cell_type": "markdown",
      "metadata": {
        "id": "O5GhRPo3p-12"
      },
      "source": [
        "### ImageCollection\n",
        "\n",
        "An `ImageCollection` is a stack or sequence of images. An `ImageCollection` can be loaded by passing an Earth Engine asset ID into the `ImageCollection` constructor. You can find `ImageCollection` IDs in the [Earth Engine Data Catalog](https://developers.google.com/earth-engine/datasets).\n",
        "\n",
        "#### Loading image collections\n",
        "\n",
        "For example, to load the image collection of the [Sentinel-2 surface reflectance](https://developers.google.com/earth-engine/datasets/catalog/COPERNICUS_S2_SR):"
      ],
      "id": "O5GhRPo3p-12"
    },
    {
      "cell_type": "code",
      "execution_count": null,
      "metadata": {
        "id": "IIAdW42ep-12"
      },
      "outputs": [],
      "source": [
        "collection = ee.ImageCollection('COPERNICUS/S2_SR')"
      ],
      "id": "IIAdW42ep-12"
    },
    {
      "cell_type": "markdown",
      "metadata": {
        "id": "RcqpMPp4p-12"
      },
      "source": [
        "#### Visualizing image collections\n",
        "\n",
        "To visualize an Earth Engine **ImageCollection**, we need to convert an **ImageCollection** to an **Image** by compositing all the images in the collection to a single image representing, for example, the min, max, median, mean or standard deviation of the images. For example, to create a median value image from a collection, use the `collection.median()` method. Let's create a median image from the Sentinel-2 surface reflectance collection:"
      ],
      "id": "RcqpMPp4p-12"
    },
    {
      "cell_type": "code",
      "execution_count": null,
      "metadata": {
        "id": "FwOq94RNp-12"
      },
      "outputs": [],
      "source": [
        "Map = geemap.Map()\n",
        "collection = ee.ImageCollection('COPERNICUS/S2_SR')\n",
        "image = collection.median()\n",
        "\n",
        "vis = {\n",
        "    'min': 0.0,\n",
        "    'max': 3000,\n",
        "    'bands': ['B4', 'B3', 'B2'],\n",
        "}\n",
        "\n",
        "Map.setCenter(83.277, 17.7009, 12)\n",
        "Map.addLayer(image, vis, 'Sentinel-2')\n",
        "Map"
      ],
      "id": "FwOq94RNp-12"
    },
    {
      "cell_type": "markdown",
      "metadata": {
        "id": "RligLV85p-12"
      },
      "source": [
        "#### Filtering image collections"
      ],
      "id": "RligLV85p-12"
    },
    {
      "cell_type": "code",
      "execution_count": null,
      "metadata": {
        "id": "K0Q4YrHnp-13"
      },
      "outputs": [],
      "source": [
        "Map = geemap.Map()\n",
        "collection = (\n",
        "    ee.ImageCollection('COPERNICUS/S2_SR')\n",
        "    .filterDate('2021-01-01', '2022-01-01')\n",
        "    .filter(ee.Filter.lt('CLOUDY_PIXEL_PERCENTAGE', 5))\n",
        ")\n",
        "image = collection.median()\n",
        "\n",
        "vis = {\n",
        "    'min': 0.0,\n",
        "    'max': 3000,\n",
        "    'bands': ['B4', 'B3', 'B2'],\n",
        "}\n",
        "\n",
        "Map.setCenter(83.277, 17.7009, 12)\n",
        "Map.addLayer(image, vis, 'Sentinel-2')\n",
        "Map"
      ],
      "id": "K0Q4YrHnp-13"
    },
    {
      "cell_type": "markdown",
      "metadata": {
        "id": "99rEiupWp-13"
      },
      "source": [
        "### FeatureCollection\n",
        "\n",
        "A **FeatureCollection** is a collection of Features. A FeatureCollection is analogous to a GeoJSON FeatureCollection object, i.e., a collection of features with associated properties/attributes. Data contained in a shapefile can be represented as a FeatureCollection.\n",
        "\n",
        "#### Loading feature collections\n",
        "\n",
        "The [Earth Engine Data Catalog](https://developers.google.com/earth-engine/datasets) hosts a variety of vector datasets (e.g,, US Census data, country boundaries, and more) as feature collections. You can find feature collection IDs by searching the data catalog. For example, to load the [TIGER roads data](https://developers.google.com/earth-engine/datasets/catalog/TIGER_2016_Roads) by the U.S. Census Bureau:"
      ],
      "id": "99rEiupWp-13"
    },
    {
      "cell_type": "code",
      "execution_count": null,
      "metadata": {
        "id": "cjWpghVOp-13"
      },
      "outputs": [],
      "source": [
        "Map = geemap.Map()\n",
        "fc = ee.FeatureCollection('TIGER/2016/Roads')\n",
        "Map.setCenter(-73.9596, 40.7688, 12)\n",
        "Map.addLayer(fc, {}, 'Census roads')\n",
        "Map"
      ],
      "id": "cjWpghVOp-13"
    },
    {
      "cell_type": "markdown",
      "metadata": {
        "id": "4AhsnINKp-13"
      },
      "source": [
        "#### Filtering feature collections"
      ],
      "id": "4AhsnINKp-13"
    },
    {
      "cell_type": "code",
      "execution_count": null,
      "metadata": {
        "id": "k6n-8Ylfp-13"
      },
      "outputs": [],
      "source": [
        "Map = geemap.Map()\n",
        "states = ee.FeatureCollection('TIGER/2018/States')\n",
        "fc = states.filter(ee.Filter.eq('NAME', 'Louisiana'))\n",
        "Map.addLayer(fc, {}, 'Louisiana')\n",
        "Map.centerObject(fc, 7)\n",
        "Map"
      ],
      "id": "k6n-8Ylfp-13"
    },
    {
      "cell_type": "code",
      "execution_count": null,
      "metadata": {
        "id": "87k1H5Ymp-13"
      },
      "outputs": [],
      "source": [
        "feat = fc.first()\n",
        "feat.toDictionary()"
      ],
      "id": "87k1H5Ymp-13"
    },
    {
      "cell_type": "code",
      "execution_count": null,
      "metadata": {
        "id": "7Ry4ejT6p-14"
      },
      "outputs": [],
      "source": [
        "Map = geemap.Map()\n",
        "states = ee.FeatureCollection('TIGER/2018/States')\n",
        "fc = states.filter(ee.Filter.inList('NAME', ['California', 'Oregon', 'Washington']))\n",
        "Map.addLayer(fc, {}, 'West Coast')\n",
        "Map.centerObject(fc, 5)\n",
        "Map"
      ],
      "id": "7Ry4ejT6p-14"
    },
    {
      "cell_type": "code",
      "execution_count": null,
      "metadata": {
        "id": "E6ZQ479up-14"
      },
      "outputs": [],
      "source": [
        "region = Map.user_roi\n",
        "if region is None:\n",
        "    region = ee.Geometry.BBox(-88.40, 29.88, -77.90, 35.39)\n",
        "\n",
        "fc = ee.FeatureCollection('TIGER/2018/States').filterBounds(region)\n",
        "Map.addLayer(fc, {}, 'Southeastern U.S.')\n",
        "Map.centerObject(fc, 6)"
      ],
      "id": "E6ZQ479up-14"
    },
    {
      "cell_type": "markdown",
      "metadata": {
        "id": "VHrHRJsFp-14"
      },
      "source": [
        "#### Visualizing feature collections"
      ],
      "id": "VHrHRJsFp-14"
    },
    {
      "cell_type": "code",
      "execution_count": null,
      "metadata": {
        "id": "zIiVpHrep-19"
      },
      "outputs": [],
      "source": [
        "Map = geemap.Map(center=[40, -100], zoom=4)\n",
        "states = ee.FeatureCollection(\"TIGER/2018/States\")\n",
        "Map.addLayer(states, {}, \"US States\")\n",
        "Map"
      ],
      "id": "zIiVpHrep-19"
    },
    {
      "cell_type": "code",
      "execution_count": null,
      "metadata": {
        "id": "aDc-B-Qip-19"
      },
      "outputs": [],
      "source": [
        "Map = geemap.Map(center=[40, -100], zoom=4)\n",
        "states = ee.FeatureCollection(\"TIGER/2018/States\")\n",
        "style = {'color': '0000ffff', 'width': 2, 'lineType': 'solid', 'fillColor': 'FF000080'}\n",
        "Map.addLayer(states.style(**style), {}, \"US States\")\n",
        "Map"
      ],
      "id": "aDc-B-Qip-19"
    },
    {
      "cell_type": "code",
      "execution_count": null,
      "metadata": {
        "id": "-pZ8NLx2p-19"
      },
      "outputs": [],
      "source": [
        "Map = geemap.Map(center=[40, -100], zoom=4)\n",
        "states = ee.FeatureCollection(\"TIGER/2018/States\")\n",
        "vis_params = {\n",
        "    'color': '000000',\n",
        "    'colorOpacity': 1,\n",
        "    'pointSize': 3,\n",
        "    'pointShape': 'circle',\n",
        "    'width': 2,\n",
        "    'lineType': 'solid',\n",
        "    'fillColorOpacity': 0.66,\n",
        "}\n",
        "palette = ['006633', 'E5FFCC', '662A00', 'D8D8D8', 'F5F5F5']\n",
        "Map.add_styled_vector(\n",
        "    states, column=\"NAME\", palette=palette, layer_name=\"Styled vector\", **vis_params\n",
        ")\n",
        "Map"
      ],
      "id": "-pZ8NLx2p-19"
    },
    {
      "cell_type": "markdown",
      "metadata": {
        "id": "bZi3Ya-qp-1-"
      },
      "source": [
        "### Earth Engine Data Catalog\n",
        "\n",
        "The [Earth Engine Data Catalog](https://developers.google.com/earth-engine/datasets) hosts a variety of geospatial datasets. As of March 2023, the catalog contains over [1,000 datasets](https://github.com/samapriya/Earth-Engine-Datasets-List) with a total size of over 80 petabytes. Some notable datasets include: Landsat, Sentinel, MODIS, NAIP, etc. For a complete list of datasets in CSV or JSON formats, see the [Earth Engine Datasets List](https://github.com/giswqs/Earth-Engine-Catalog/blob/master/gee_catalog.tsv).\n",
        "\n",
        "#### Searching for datasets\n",
        "\n",
        "The [Earth Engine Data Catalog](https://developers.google.com/earth-engine/datasets/catalog) is searchable. You can search datasets by name, keyword, or tag. For example, enter \"elevation\" in the search box will filter the catalog to show only datasets containing \"elevation\" in their name, description, or tags. 52 datasets are returned for this search query. Scroll down the list to find the [NASA SRTM Digital Elevation 30m](https://developers.google.com/earth-engine/datasets/catalog/USGS_SRTMGL1_003#description) dataset. On each dataset page, you can find the following information, including Dataset Availability, Dataset Provider, Earth Engine Snippet, Tags, Description, Code Example, and more (see {numref}`ch03_gee_srtm`). One important piece of information is the Image/ImageCollection/FeatureCollection ID of each dataset, which is essential for accessing the dataset through the Earth Engine JavaScript or Python APIs.\n",
        "\n",
        "![](https://i.imgur.com/B3rf4QN.jpg)"
      ],
      "id": "bZi3Ya-qp-1-"
    },
    {
      "cell_type": "code",
      "execution_count": null,
      "metadata": {
        "id": "MPq32hmQp-1-"
      },
      "outputs": [],
      "source": [
        "Map = geemap.Map()\n",
        "Map"
      ],
      "id": "MPq32hmQp-1-"
    },
    {
      "cell_type": "code",
      "execution_count": null,
      "metadata": {
        "id": "97zbZ4CKp-1-"
      },
      "outputs": [],
      "source": [
        "dataset_xyz = ee.Image('USGS/SRTMGL1_003')\n",
        "Map.addLayer(dataset_xyz, {}, \"USGS/SRTMGL1_003\")"
      ],
      "id": "97zbZ4CKp-1-"
    },
    {
      "cell_type": "code",
      "execution_count": null,
      "metadata": {
        "id": "8r46rEofp-1_"
      },
      "outputs": [],
      "source": [
        "Map = geemap.Map()\n",
        "dem = ee.Image('USGS/SRTMGL1_003')\n",
        "vis_params = {\n",
        "    'min': 0,\n",
        "    'max': 4000,\n",
        "    'palette': ['006633', 'E5FFCC', '662A00', 'D8D8D8', 'F5F5F5'],\n",
        "}\n",
        "Map.addLayer(dem, vis_params, 'SRTM DEM')\n",
        "Map"
      ],
      "id": "8r46rEofp-1_"
    },
    {
      "cell_type": "markdown",
      "metadata": {
        "id": "Kopetz1zp-1_"
      },
      "source": [
        "#### Using the datasets module"
      ],
      "id": "Kopetz1zp-1_"
    },
    {
      "cell_type": "code",
      "execution_count": null,
      "metadata": {
        "id": "3FYOtpPCp-1_"
      },
      "outputs": [],
      "source": [
        "from geemap.datasets import DATA"
      ],
      "id": "3FYOtpPCp-1_"
    },
    {
      "cell_type": "code",
      "execution_count": null,
      "metadata": {
        "id": "LGFNfv-Lp-1_"
      },
      "outputs": [],
      "source": [
        "Map = geemap.Map(center=[40, -100], zoom=4)\n",
        "dataset = ee.Image(DATA.USGS_GAP_CONUS_2011)\n",
        "Map.addLayer(dataset, {}, 'GAP CONUS')\n",
        "Map"
      ],
      "id": "LGFNfv-Lp-1_"
    },
    {
      "cell_type": "code",
      "execution_count": null,
      "metadata": {
        "id": "IUD9Pyk6p-1_"
      },
      "outputs": [],
      "source": [
        "from geemap.datasets import get_metadata\n",
        "\n",
        "get_metadata(DATA.USGS_GAP_CONUS_2011)"
      ],
      "id": "IUD9Pyk6p-1_"
    },
    {
      "cell_type": "markdown",
      "metadata": {
        "id": "V-0sILZmp-2A"
      },
      "source": [
        "### Converting Earth Engine JavaScripts to Python\n",
        "\n",
        "Find some Earth Engine JavaScript code that you want to convert to Python. For example, you can grab some sample code from the [Earth Engine Documentation](https://developers.google.com/earth-engine/guides/image_visualization)."
      ],
      "id": "V-0sILZmp-2A"
    },
    {
      "cell_type": "code",
      "execution_count": null,
      "metadata": {
        "id": "hHfpTDkUp-2A"
      },
      "outputs": [],
      "source": [
        "Map = geemap.Map()\n",
        "Map"
      ],
      "id": "hHfpTDkUp-2A"
    },
    {
      "cell_type": "code",
      "execution_count": null,
      "metadata": {
        "id": "e8JBgx5up-2A"
      },
      "outputs": [],
      "source": [
        "# Load an image.\n",
        "image = ee.Image('LANDSAT/LC08/C02/T1_TOA/LC08_044034_20140318')\n",
        "\n",
        "# Define the visualization parameters.\n",
        "vizParams = {'bands': ['B5', 'B4', 'B3'], 'min': 0, 'max': 0.5, 'gamma': [0.95, 1.1, 1]}\n",
        "\n",
        "# Center the map and display the image.\n",
        "Map.setCenter(-122.1899, 37.5010, 10)\n",
        "# San Francisco Bay\n",
        "Map.addLayer(image, vizParams, 'False color composite')"
      ],
      "id": "e8JBgx5up-2A"
    },
    {
      "cell_type": "markdown",
      "metadata": {
        "id": "iRpifF8mp-2A"
      },
      "source": [
        "### Exercise 1 - Creating cloud-free imagery\n",
        "\n",
        "Create a cloud-free imagery of Texas for the year of 2022. You can use either Landsat 9 or Sentinel-2 imagery. Relevant Earth Engine assets:\n",
        "- [ee.FeatureCollection(\"TIGER/2018/States\")](https://developers.google.com/earth-engine/datasets/catalog/TIGER_2018_States)\n",
        "- [ee.ImageCollection(\"COPERNICUS/S2_SR\")](https://developers.google.com/earth-engine/datasets/catalog/COPERNICUS_S2_SR)\n",
        "- [ee.ImageCollection(\"LANDSAT/LC09/C02/T1_L2\")](https://developers.google.com/earth-engine/datasets/catalog/LANDSAT_LC09_C02_T1_L2)\n",
        "\n",
        "![](https://i.imgur.com/DNIqGPY.png)"
      ],
      "id": "iRpifF8mp-2A"
    },
    {
      "cell_type": "code",
      "execution_count": null,
      "metadata": {
        "id": "GliRclbcp-2B"
      },
      "outputs": [],
      "source": [],
      "id": "GliRclbcp-2B"
    },
    {
      "cell_type": "markdown",
      "metadata": {
        "id": "W9lpqC_Dp-2B"
      },
      "source": [
        "## Break 1 (10 mins)\n",
        "\n",
        "## Visualizing Earth Engine data (30 mins)\n",
        "\n",
        "### Geemap Inspector tool, plotting tool, interactive GUI for data visualization\n",
        "\n",
        "### Using the inspector tool"
      ],
      "id": "W9lpqC_Dp-2B"
    },
    {
      "cell_type": "code",
      "execution_count": null,
      "metadata": {
        "id": "qc0PGy1Pp-2B"
      },
      "outputs": [],
      "source": [
        "Map = geemap.Map(center=(40, -100), zoom=4)\n",
        "\n",
        "dem = ee.Image('USGS/SRTMGL1_003')\n",
        "landsat7 = ee.Image('LANDSAT/LE7_TOA_5YEAR/1999_2003').select(\n",
        "    ['B1', 'B2', 'B3', 'B4', 'B5', 'B7']\n",
        ")\n",
        "states = ee.FeatureCollection(\"TIGER/2018/States\")\n",
        "\n",
        "vis_params = {\n",
        "    'min': 0,\n",
        "    'max': 4000,\n",
        "    'palette': ['006633', 'E5FFCC', '662A00', 'D8D8D8', 'F5F5F5'],\n",
        "}\n",
        "\n",
        "Map.addLayer(dem, vis_params, 'SRTM DEM')\n",
        "Map.addLayer(\n",
        "    landsat7,\n",
        "    {'bands': ['B4', 'B3', 'B2'], 'min': 20, 'max': 200, 'gamma': 2.0},\n",
        "    'Landsat 7',\n",
        ")\n",
        "Map.addLayer(states, {}, \"US States\")\n",
        "Map.add_inspector()\n",
        "Map"
      ],
      "id": "qc0PGy1Pp-2B"
    },
    {
      "cell_type": "markdown",
      "metadata": {
        "id": "k3dGt63jp-2B"
      },
      "source": [
        "### Using the plotting tool"
      ],
      "id": "k3dGt63jp-2B"
    },
    {
      "cell_type": "code",
      "execution_count": null,
      "metadata": {
        "id": "krG2_z86p-2B"
      },
      "outputs": [],
      "source": [
        "Map = geemap.Map(center=[40, -100], zoom=4)\n",
        "\n",
        "landsat7 = ee.Image('LANDSAT/LE7_TOA_5YEAR/1999_2003').select(\n",
        "    ['B1', 'B2', 'B3', 'B4', 'B5', 'B7']\n",
        ")\n",
        "\n",
        "landsat_vis = {'bands': ['B4', 'B3', 'B2'], 'gamma': 1.4}\n",
        "Map.addLayer(landsat7, landsat_vis, \"Landsat\")\n",
        "\n",
        "hyperion = ee.ImageCollection('EO1/HYPERION').filter(\n",
        "    ee.Filter.date('2016-01-01', '2017-03-01')\n",
        ")\n",
        "\n",
        "hyperion_vis = {\n",
        "    'min': 1000.0,\n",
        "    'max': 14000.0,\n",
        "    'gamma': 2.5,\n",
        "}\n",
        "Map.addLayer(hyperion, hyperion_vis, 'Hyperion')\n",
        "Map.add_plot_gui()\n",
        "Map"
      ],
      "id": "krG2_z86p-2B"
    },
    {
      "cell_type": "code",
      "execution_count": null,
      "metadata": {
        "id": "XRgf8iFfp-2C"
      },
      "outputs": [],
      "source": [
        "Map.set_plot_options(add_marker_cluster=True, overlay=True)"
      ],
      "id": "XRgf8iFfp-2C"
    },
    {
      "cell_type": "markdown",
      "metadata": {
        "id": "k7b2Hf3wp-2C"
      },
      "source": [
        "### Legends, color bars, and labels\n",
        "\n",
        "#### Built-in legends"
      ],
      "id": "k7b2Hf3wp-2C"
    },
    {
      "cell_type": "code",
      "execution_count": null,
      "metadata": {
        "id": "vQeGHIOOp-2C"
      },
      "outputs": [],
      "source": [
        "from geemap.legends import builtin_legends"
      ],
      "id": "vQeGHIOOp-2C"
    },
    {
      "cell_type": "code",
      "execution_count": null,
      "metadata": {
        "id": "RLez58WBp-2C"
      },
      "outputs": [],
      "source": [
        "for legend in builtin_legends:\n",
        "    print(legend)"
      ],
      "id": "RLez58WBp-2C"
    },
    {
      "cell_type": "markdown",
      "metadata": {
        "id": "L2D_Eqzup-2C"
      },
      "source": [
        "Add NLCD WMS layer and legend to the map."
      ],
      "id": "L2D_Eqzup-2C"
    },
    {
      "cell_type": "code",
      "execution_count": null,
      "metadata": {
        "id": "C58GPDn2p-2D"
      },
      "outputs": [],
      "source": [
        "Map = geemap.Map(center=[40, -100], zoom=4)\n",
        "Map.add_basemap('Google Hybrid')\n",
        "Map.add_basemap('NLCD 2019 CONUS Land Cover')\n",
        "Map.add_legend(builtin_legend='NLCD', max_width='100px')\n",
        "Map"
      ],
      "id": "C58GPDn2p-2D"
    },
    {
      "cell_type": "markdown",
      "metadata": {
        "id": "UNs_jGmXp-2D"
      },
      "source": [
        "Add NLCD Earth Engine layer and legend to the map."
      ],
      "id": "UNs_jGmXp-2D"
    },
    {
      "cell_type": "code",
      "execution_count": null,
      "metadata": {
        "id": "94hinVecp-2D"
      },
      "outputs": [],
      "source": [
        "Map = geemap.Map(center=[40, -100], zoom=4)\n",
        "Map.add_basemap('HYBRID')\n",
        "\n",
        "nlcd = ee.Image('USGS/NLCD_RELEASES/2019_REL/NLCD/2019')\n",
        "landcover = nlcd.select('landcover')\n",
        "\n",
        "Map.addLayer(landcover, {}, 'NLCD Land Cover 2019')\n",
        "Map.add_legend(\n",
        "    title=\"NLCD Land Cover Classification\", builtin_legend='NLCD', height='460px'\n",
        ")\n",
        "Map"
      ],
      "id": "94hinVecp-2D"
    },
    {
      "cell_type": "markdown",
      "metadata": {
        "id": "xDJu7JjBp-2D"
      },
      "source": [
        "#### Custom legends"
      ],
      "id": "xDJu7JjBp-2D"
    },
    {
      "cell_type": "markdown",
      "metadata": {
        "id": "JvUKhLQ1p-2D"
      },
      "source": [
        "Add a custom legend by specifying the colors and labels."
      ],
      "id": "JvUKhLQ1p-2D"
    },
    {
      "cell_type": "code",
      "execution_count": null,
      "metadata": {
        "id": "WJ-E5lkrp-2E"
      },
      "outputs": [],
      "source": [
        "Map = geemap.Map(add_google_map=False)\n",
        "\n",
        "labels = ['One', 'Two', 'Three', 'Four', 'ect']\n",
        "\n",
        "# colors can be defined using either hex code or RGB (0-255, 0-255, 0-255)\n",
        "colors = ['#8DD3C7', '#FFFFB3', '#BEBADA', '#FB8072', '#80B1D3']\n",
        "# legend_colors = [(255, 0, 0), (127, 255, 0), (127, 18, 25), (36, 70, 180), (96, 68 123)]\n",
        "\n",
        "Map.add_legend(labels=labels, colors=colors, position='bottomright')\n",
        "Map"
      ],
      "id": "WJ-E5lkrp-2E"
    },
    {
      "cell_type": "markdown",
      "metadata": {
        "id": "xlSp-Ikdp-2E"
      },
      "source": [
        "Add a custom legend by specifying a dictionary of colors and labels."
      ],
      "id": "xlSp-Ikdp-2E"
    },
    {
      "cell_type": "code",
      "execution_count": null,
      "metadata": {
        "id": "XG4iSOtfp-2E"
      },
      "outputs": [],
      "source": [
        "Map = geemap.Map(center=[40, -100], zoom=4)\n",
        "Map.add_basemap('Google Hybrid')\n",
        "\n",
        "legend_dict = {\n",
        "    '11 Open Water': '466b9f',\n",
        "    '12 Perennial Ice/Snow': 'd1def8',\n",
        "    '21 Developed, Open Space': 'dec5c5',\n",
        "    '22 Developed, Low Intensity': 'd99282',\n",
        "    '23 Developed, Medium Intensity': 'eb0000',\n",
        "    '24 Developed High Intensity': 'ab0000',\n",
        "    '31 Barren Land (Rock/Sand/Clay)': 'b3ac9f',\n",
        "    '41 Deciduous Forest': '68ab5f',\n",
        "    '42 Evergreen Forest': '1c5f2c',\n",
        "    '43 Mixed Forest': 'b5c58f',\n",
        "    '51 Dwarf Scrub': 'af963c',\n",
        "    '52 Shrub/Scrub': 'ccb879',\n",
        "    '71 Grassland/Herbaceous': 'dfdfc2',\n",
        "    '72 Sedge/Herbaceous': 'd1d182',\n",
        "    '73 Lichens': 'a3cc51',\n",
        "    '74 Moss': '82ba9e',\n",
        "    '81 Pasture/Hay': 'dcd939',\n",
        "    '82 Cultivated Crops': 'ab6c28',\n",
        "    '90 Woody Wetlands': 'b8d9eb',\n",
        "    '95 Emergent Herbaceous Wetlands': '6c9fb8',\n",
        "}\n",
        "\n",
        "nlcd = ee.Image('USGS/NLCD_RELEASES/2019_REL/NLCD/2019')\n",
        "landcover = nlcd.select('landcover')\n",
        "\n",
        "Map.addLayer(landcover, {}, 'NLCD Land Cover 2019')\n",
        "Map.add_legend(title=\"NLCD Land Cover Classification\", legend_dict=legend_dict)\n",
        "Map"
      ],
      "id": "XG4iSOtfp-2E"
    },
    {
      "cell_type": "markdown",
      "metadata": {
        "id": "PS9fpGJlp-2E"
      },
      "source": [
        "#### Creating color bars\n",
        "\n",
        "Add a horizontal color bar."
      ],
      "id": "PS9fpGJlp-2E"
    },
    {
      "cell_type": "code",
      "execution_count": null,
      "metadata": {
        "id": "xPAXBUFip-2E"
      },
      "outputs": [],
      "source": [
        "Map = geemap.Map()\n",
        "\n",
        "dem = ee.Image('USGS/SRTMGL1_003')\n",
        "vis_params = {\n",
        "    'min': 0,\n",
        "    'max': 4000,\n",
        "    'palette': ['006633', 'E5FFCC', '662A00', 'D8D8D8', 'F5F5F5'],\n",
        "}\n",
        "\n",
        "Map.addLayer(dem, vis_params, 'SRTM DEM')\n",
        "Map.add_colorbar(vis_params, label=\"Elevation (m)\", layer_name=\"SRTM DEM\")\n",
        "Map"
      ],
      "id": "xPAXBUFip-2E"
    },
    {
      "cell_type": "markdown",
      "metadata": {
        "id": "3iaPPr7Rp-2E"
      },
      "source": [
        "Add a vertical color bar."
      ],
      "id": "3iaPPr7Rp-2E"
    },
    {
      "cell_type": "code",
      "execution_count": null,
      "metadata": {
        "id": "zELWMZ_Jp-2F"
      },
      "outputs": [],
      "source": [
        "Map.add_colorbar(\n",
        "    vis_params,\n",
        "    label=\"Elevation (m)\",\n",
        "    layer_name=\"SRTM DEM\",\n",
        "    orientation=\"vertical\",\n",
        "    max_width=\"100px\"\n",
        ")"
      ],
      "id": "zELWMZ_Jp-2F"
    },
    {
      "cell_type": "markdown",
      "metadata": {
        "id": "AZRpMyGap-2F"
      },
      "source": [
        "### Split-panel map and linked maps\n",
        "\n",
        "### Split-panel maps\n",
        "\n",
        "Create a split map with basemaps."
      ],
      "id": "AZRpMyGap-2F"
    },
    {
      "cell_type": "code",
      "execution_count": null,
      "metadata": {
        "id": "2dXV82nyp-2F"
      },
      "outputs": [],
      "source": [
        "Map = geemap.Map()\n",
        "Map.split_map(left_layer='Google Terrain', right_layer='OpenTopoMap')\n",
        "Map"
      ],
      "id": "2dXV82nyp-2F"
    },
    {
      "cell_type": "markdown",
      "metadata": {
        "id": "M4hlrZhsp-2F"
      },
      "source": [
        "Create a split map with Earth Engine layers."
      ],
      "id": "M4hlrZhsp-2F"
    },
    {
      "cell_type": "code",
      "execution_count": null,
      "metadata": {
        "id": "s8cEEZcPp-2G"
      },
      "outputs": [],
      "source": [
        "Map = geemap.Map(center=(40, -100), zoom=4, height=600)\n",
        "\n",
        "nlcd_2001 = ee.Image('USGS/NLCD_RELEASES/2019_REL/NLCD/2001').select('landcover')\n",
        "nlcd_2019 = ee.Image('USGS/NLCD_RELEASES/2019_REL/NLCD/2019').select('landcover')\n",
        "\n",
        "left_layer = geemap.ee_tile_layer(nlcd_2001, {}, 'NLCD 2001')\n",
        "right_layer = geemap.ee_tile_layer(nlcd_2019, {}, 'NLCD 2019')\n",
        "\n",
        "Map.split_map(left_layer, right_layer)\n",
        "Map"
      ],
      "id": "s8cEEZcPp-2G"
    },
    {
      "cell_type": "markdown",
      "metadata": {
        "id": "lqGGC0kVp-2G"
      },
      "source": [
        "### Linked maps\n",
        "\n",
        "Create a 2x2 linked map for visualizing Sentinel-2 imagery with different band combinations."
      ],
      "id": "lqGGC0kVp-2G"
    },
    {
      "cell_type": "code",
      "execution_count": null,
      "metadata": {
        "id": "E9Kz-SJtp-2G"
      },
      "outputs": [],
      "source": [
        "image = (\n",
        "    ee.ImageCollection('COPERNICUS/S2')\n",
        "    .filterDate('2018-09-01', '2018-09-30')\n",
        "    .map(lambda img: img.divide(10000))\n",
        "    .median()\n",
        ")\n",
        "\n",
        "vis_params = [\n",
        "    {'bands': ['B4', 'B3', 'B2'], 'min': 0, 'max': 0.3, 'gamma': 1.3},\n",
        "    {'bands': ['B8', 'B11', 'B4'], 'min': 0, 'max': 0.3, 'gamma': 1.3},\n",
        "    {'bands': ['B8', 'B4', 'B3'], 'min': 0, 'max': 0.3, 'gamma': 1.3},\n",
        "    {'bands': ['B12', 'B12', 'B4'], 'min': 0, 'max': 0.3, 'gamma': 1.3},\n",
        "]\n",
        "\n",
        "labels = [\n",
        "    'Natural Color (B4/B3/B2)',\n",
        "    'Land/Water (B8/B11/B4)',\n",
        "    'Color Infrared (B8/B4/B3)',\n",
        "    'Vegetation (B12/B11/B4)',\n",
        "]\n",
        "\n",
        "geemap.linked_maps(\n",
        "    rows=2,\n",
        "    cols=2,\n",
        "    height=\"300px\",\n",
        "    center=[38.4151, 21.2712],\n",
        "    zoom=12,\n",
        "    ee_objects=[image],\n",
        "    vis_params=vis_params,\n",
        "    labels=labels,\n",
        "    label_position=\"topright\",\n",
        ")"
      ],
      "id": "E9Kz-SJtp-2G"
    },
    {
      "cell_type": "markdown",
      "metadata": {
        "id": "-yjQFyDvp-2G"
      },
      "source": [
        "### Timeseries inspector and time slider\n",
        "\n",
        "#### Timeseries inspector\n",
        "\n",
        "Check the available years of NLCD."
      ],
      "id": "-yjQFyDvp-2G"
    },
    {
      "cell_type": "code",
      "execution_count": null,
      "metadata": {
        "id": "2ZV5ptLKp-2H"
      },
      "outputs": [],
      "source": [
        "Map = geemap.Map(center=[40, -100], zoom=4)\n",
        "collection = ee.ImageCollection('USGS/NLCD_RELEASES/2019_REL/NLCD').select('landcover')\n",
        "vis_params = {'bands': ['landcover']}\n",
        "years = collection.aggregate_array('system:index').getInfo()\n",
        "years"
      ],
      "id": "2ZV5ptLKp-2H"
    },
    {
      "cell_type": "markdown",
      "metadata": {
        "id": "gP-9tdGEp-2H"
      },
      "source": [
        "Create a timeseries inspector for NLCD."
      ],
      "id": "gP-9tdGEp-2H"
    },
    {
      "cell_type": "code",
      "execution_count": null,
      "metadata": {
        "id": "OYpBkJrHp-2H"
      },
      "outputs": [],
      "source": [
        "Map.ts_inspector(\n",
        "    left_ts=collection,\n",
        "    right_ts=collection,\n",
        "    left_names=years,\n",
        "    right_names=years,\n",
        "    left_vis=vis_params,\n",
        "    right_vis=vis_params,\n",
        "    width='80px',\n",
        ")\n",
        "Map"
      ],
      "id": "OYpBkJrHp-2H"
    },
    {
      "cell_type": "markdown",
      "metadata": {
        "id": "lLPg2oemp-2H"
      },
      "source": [
        "#### Time slider\n",
        "\n",
        "Create a map for visualizing MODIS vegetation data."
      ],
      "id": "lLPg2oemp-2H"
    },
    {
      "cell_type": "code",
      "execution_count": null,
      "metadata": {
        "id": "EoM2d4pgp-2H"
      },
      "outputs": [],
      "source": [
        "Map = geemap.Map()\n",
        "\n",
        "collection = (\n",
        "    ee.ImageCollection('MODIS/MCD43A4_006_NDVI')\n",
        "    .filter(ee.Filter.date('2018-06-01', '2018-07-01'))\n",
        "    .select(\"NDVI\")\n",
        ")\n",
        "vis_params = {\n",
        "    'min': 0.0,\n",
        "    'max': 1.0,\n",
        "    'palette': 'ndvi',\n",
        "}\n",
        "\n",
        "Map.add_time_slider(collection, vis_params, time_interval=2)\n",
        "Map"
      ],
      "id": "EoM2d4pgp-2H"
    },
    {
      "cell_type": "markdown",
      "metadata": {
        "id": "tMieTOgfp-2I"
      },
      "source": [
        "Create a map for visualizing weather data."
      ],
      "id": "tMieTOgfp-2I"
    },
    {
      "cell_type": "code",
      "execution_count": null,
      "metadata": {
        "id": "pH2Qc-x0p-2I"
      },
      "outputs": [],
      "source": [
        "Map = geemap.Map()\n",
        "\n",
        "collection = (\n",
        "    ee.ImageCollection('NOAA/GFS0P25')\n",
        "    .filterDate('2018-12-22', '2018-12-23')\n",
        "    .limit(24)\n",
        "    .select('temperature_2m_above_ground')\n",
        ")\n",
        "\n",
        "vis_params = {\n",
        "    'min': -40.0,\n",
        "    'max': 35.0,\n",
        "    'palette': ['blue', 'purple', 'cyan', 'green', 'yellow', 'red'],\n",
        "}\n",
        "\n",
        "labels = [str(n).zfill(2) + \":00\" for n in range(0, 24)]\n",
        "Map.add_time_slider(collection, vis_params, labels=labels, time_interval=1, opacity=0.8)\n",
        "Map"
      ],
      "id": "pH2Qc-x0p-2I"
    },
    {
      "cell_type": "markdown",
      "metadata": {
        "id": "gdoRJ5VWp-2I"
      },
      "source": [
        "Visualizing Sentinel-2 imagery"
      ],
      "id": "gdoRJ5VWp-2I"
    },
    {
      "cell_type": "code",
      "execution_count": null,
      "metadata": {
        "id": "94IteRh9p-2I"
      },
      "outputs": [],
      "source": [
        "Map = geemap.Map(center=[37.75, -122.45], zoom=12)\n",
        "\n",
        "collection = (\n",
        "    ee.ImageCollection('COPERNICUS/S2_SR')\n",
        "    .filterBounds(ee.Geometry.Point([-122.45, 37.75]))\n",
        "    .filterMetadata('CLOUDY_PIXEL_PERCENTAGE', 'less_than', 10)\n",
        ")\n",
        "\n",
        "vis_params = {\"min\": 0, \"max\": 4000, \"bands\": [\"B8\", \"B4\", \"B3\"]}\n",
        "\n",
        "Map.add_time_slider(collection, vis_params)\n",
        "Map"
      ],
      "id": "94IteRh9p-2I"
    },
    {
      "cell_type": "markdown",
      "metadata": {
        "id": "0Qf2eAQrp-2I"
      },
      "source": [
        "### Exercise 2 - Creating land cover maps with a legend\n",
        "\n",
        "Create a split map for visualizing NLCD land cover change in Texas between 2001 and 2019. Add the NLCD legend to the map. Relevant Earth Engine assets:\n",
        "- [ee.FeatureCollection(\"TIGER/2018/States\")](https://developers.google.com/earth-engine/datasets/catalog/TIGER_2018_States)\n",
        "- [ee.ImageCollection(\"USGS/NLCD_RELEASES/2019_REL/NLCD\")](https://developers.google.com/earth-engine/datasets/catalog/USGS_NLCD_RELEASES_2019_REL_NLCD)\n",
        "\n",
        "\n",
        "![](https://i.imgur.com/LJmztTd.png)\n",
        "\n"
      ],
      "id": "0Qf2eAQrp-2I"
    },
    {
      "cell_type": "code",
      "execution_count": null,
      "metadata": {
        "id": "WfJ1KpUUp-2J"
      },
      "outputs": [],
      "source": [],
      "id": "WfJ1KpUUp-2J"
    },
    {
      "cell_type": "markdown",
      "metadata": {
        "id": "N9P5RfRBp-2J"
      },
      "source": [
        "## Analyzing Earth Engine data (30 mins)\n",
        "\n",
        "### Image descriptive statistics\n",
        "\n",
        "Use a sample Landsat image."
      ],
      "id": "N9P5RfRBp-2J"
    },
    {
      "cell_type": "code",
      "execution_count": null,
      "metadata": {
        "id": "ZVLZ4P8jp-2J"
      },
      "outputs": [],
      "source": [
        "Map = geemap.Map()\n",
        "\n",
        "centroid = ee.Geometry.Point([-122.4439, 37.7538])\n",
        "image = ee.ImageCollection('LANDSAT/LC08/C01/T1_SR').filterBounds(centroid).first()\n",
        "vis = {'min': 0, 'max': 3000, 'bands': ['B5', 'B4', 'B3']}\n",
        "\n",
        "Map.centerObject(centroid, 8)\n",
        "Map.addLayer(image, vis, \"Landsat-8\")\n",
        "Map.addLayer(centroid, {}, 'Centroid')\n",
        "Map"
      ],
      "id": "ZVLZ4P8jp-2J"
    },
    {
      "cell_type": "markdown",
      "metadata": {
        "id": "vtynhqFRp-2J"
      },
      "source": [
        "Check image properties."
      ],
      "id": "vtynhqFRp-2J"
    },
    {
      "cell_type": "code",
      "execution_count": null,
      "metadata": {
        "id": "agrBX0xMp-2J"
      },
      "outputs": [],
      "source": [
        "image.propertyNames()"
      ],
      "id": "agrBX0xMp-2J"
    },
    {
      "cell_type": "markdown",
      "metadata": {
        "id": "jTaWWpoRp-2K"
      },
      "source": [
        "Check image property values."
      ],
      "id": "jTaWWpoRp-2K"
    },
    {
      "cell_type": "code",
      "execution_count": null,
      "metadata": {
        "id": "lBu9aLDfp-2K"
      },
      "outputs": [],
      "source": [
        "image.toDictionary()"
      ],
      "id": "lBu9aLDfp-2K"
    },
    {
      "cell_type": "markdown",
      "metadata": {
        "id": "4QiqisLep-2K"
      },
      "source": [
        "Get specific image properties."
      ],
      "id": "4QiqisLep-2K"
    },
    {
      "cell_type": "code",
      "execution_count": null,
      "metadata": {
        "id": "qHBlXARzp-2K"
      },
      "outputs": [],
      "source": [
        "image.get('CLOUD_COVER')  # 0.05"
      ],
      "id": "qHBlXARzp-2K"
    },
    {
      "cell_type": "markdown",
      "metadata": {
        "id": "INF5_Nm0p-2K"
      },
      "source": [
        "Get image properties with easy-to-read time format."
      ],
      "id": "INF5_Nm0p-2K"
    },
    {
      "cell_type": "code",
      "execution_count": null,
      "metadata": {
        "id": "-oRQDhVEp-2K"
      },
      "outputs": [],
      "source": [
        "props = geemap.image_props(image)\n",
        "props"
      ],
      "id": "-oRQDhVEp-2K"
    },
    {
      "cell_type": "markdown",
      "metadata": {
        "id": "t0sauEWwp-2L"
      },
      "source": [
        "Compute image descriptive statistics."
      ],
      "id": "t0sauEWwp-2L"
    },
    {
      "cell_type": "code",
      "execution_count": null,
      "metadata": {
        "id": "5ypoaxYup-2L"
      },
      "outputs": [],
      "source": [
        "stats = geemap.image_stats(image, scale=30)\n",
        "stats"
      ],
      "id": "5ypoaxYup-2L"
    },
    {
      "cell_type": "markdown",
      "metadata": {
        "id": "-o4ag3v1p-2L"
      },
      "source": [
        "### Zonal statistics\n",
        "\n",
        "#### Zonal statistics\n",
        "\n",
        "Add Earth Engine data to the map."
      ],
      "id": "-o4ag3v1p-2L"
    },
    {
      "cell_type": "code",
      "execution_count": null,
      "metadata": {
        "id": "lsEhEbxkp-2L"
      },
      "outputs": [],
      "source": [
        "Map = geemap.Map(center=[40, -100], zoom=4)\n",
        "\n",
        "# Add NASA SRTM\n",
        "dem = ee.Image('USGS/SRTMGL1_003')\n",
        "dem_vis = {\n",
        "    'min': 0,\n",
        "    'max': 4000,\n",
        "    'palette': ['006633', 'E5FFCC', '662A00', 'D8D8D8', 'F5F5F5'],\n",
        "}\n",
        "Map.addLayer(dem, dem_vis, 'SRTM DEM')\n",
        "\n",
        "# Add 5-year Landsat TOA composite\n",
        "landsat = ee.Image('LANDSAT/LE7_TOA_5YEAR/1999_2003')\n",
        "landsat_vis = {'bands': ['B4', 'B3', 'B2'], 'gamma': 1.4}\n",
        "Map.addLayer(landsat, landsat_vis, \"Landsat\", False)\n",
        "\n",
        "# Add US Census States\n",
        "states = ee.FeatureCollection(\"TIGER/2018/States\")\n",
        "style = {'fillColor': '00000000'}\n",
        "Map.addLayer(states.style(**style), {}, 'US States')\n",
        "Map"
      ],
      "id": "lsEhEbxkp-2L"
    },
    {
      "cell_type": "markdown",
      "metadata": {
        "id": "SPLrVBAsp-2L"
      },
      "source": [
        "Compute zonal statistics. In this case, we compute the mean elevation of each state and export the results to a CSV file."
      ],
      "id": "SPLrVBAsp-2L"
    },
    {
      "cell_type": "code",
      "execution_count": null,
      "metadata": {
        "id": "ApnFgpfqp-2M"
      },
      "outputs": [],
      "source": [
        "out_dem_stats = 'dem_stats.csv'\n",
        "geemap.zonal_stats(\n",
        "    dem, states, out_dem_stats, stat_type='MEAN', scale=1000, return_fc=False\n",
        ")"
      ],
      "id": "ApnFgpfqp-2M"
    },
    {
      "cell_type": "markdown",
      "metadata": {
        "id": "zkS8I09Np-2M"
      },
      "source": [
        "Display the csv file as a table."
      ],
      "id": "zkS8I09Np-2M"
    },
    {
      "cell_type": "code",
      "execution_count": null,
      "metadata": {
        "id": "rBE-FmqKp-2M"
      },
      "outputs": [],
      "source": [
        "geemap.csv_to_df(out_dem_stats).sort_values(by=['mean'], ascending=True)"
      ],
      "id": "rBE-FmqKp-2M"
    },
    {
      "cell_type": "markdown",
      "metadata": {
        "id": "BJBH9_M6p-2M"
      },
      "source": [
        "Compute zonal statistics of mean spectral values of each state."
      ],
      "id": "BJBH9_M6p-2M"
    },
    {
      "cell_type": "code",
      "execution_count": null,
      "metadata": {
        "id": "0iSNIqfBp-2M"
      },
      "outputs": [],
      "source": [
        "out_landsat_stats = 'landsat_stats.csv'\n",
        "geemap.zonal_stats(\n",
        "    landsat,\n",
        "    states,\n",
        "    out_landsat_stats,\n",
        "    stat_type='MEAN',\n",
        "    scale=1000,\n",
        "    return_fc=False,\n",
        ")"
      ],
      "id": "0iSNIqfBp-2M"
    },
    {
      "cell_type": "code",
      "execution_count": null,
      "metadata": {
        "id": "EPsIC2vFp-2N"
      },
      "outputs": [],
      "source": [
        "geemap.csv_to_df(out_landsat_stats)"
      ],
      "id": "EPsIC2vFp-2N"
    },
    {
      "cell_type": "markdown",
      "metadata": {
        "id": "iZ1lPKDCp-2N"
      },
      "source": [
        "#### Zonal statistics by group\n",
        "\n",
        "Compute zonal statistics by group. In this case, we compute the area of each land cover type in each state and export the results to a CSV file."
      ],
      "id": "iZ1lPKDCp-2N"
    },
    {
      "cell_type": "code",
      "execution_count": null,
      "metadata": {
        "id": "W-TVqjt_p-2N"
      },
      "outputs": [],
      "source": [
        "Map = geemap.Map(center=[40, -100], zoom=4)\n",
        "\n",
        "# Add NLCD data\n",
        "dataset = ee.Image('USGS/NLCD_RELEASES/2019_REL/NLCD/2019')\n",
        "landcover = dataset.select('landcover')\n",
        "Map.addLayer(landcover, {}, 'NLCD 2019')\n",
        "\n",
        "# Add US census states\n",
        "states = ee.FeatureCollection(\"TIGER/2018/States\")\n",
        "style = {'fillColor': '00000000'}\n",
        "Map.addLayer(states.style(**style), {}, 'US States')\n",
        "\n",
        "# Add NLCD legend\n",
        "Map.add_legend(title='NLCD Land Cover', builtin_legend='NLCD')\n",
        "Map"
      ],
      "id": "W-TVqjt_p-2N"
    },
    {
      "cell_type": "markdown",
      "metadata": {
        "id": "5Gl4kkT5p-2N"
      },
      "source": [
        "Compute zonal statistics by group and convert the area unit from square meters to square kilometers."
      ],
      "id": "5Gl4kkT5p-2N"
    },
    {
      "cell_type": "code",
      "execution_count": null,
      "metadata": {
        "id": "a1lXztVYp-2N"
      },
      "outputs": [],
      "source": [
        "nlcd_stats = 'nlcd_stats.csv'\n",
        "\n",
        "geemap.zonal_stats_by_group(\n",
        "    landcover,\n",
        "    states,\n",
        "    nlcd_stats,\n",
        "    stat_type='SUM',\n",
        "    denominator=1e6,\n",
        "    decimal_places=2,\n",
        ")"
      ],
      "id": "a1lXztVYp-2N"
    },
    {
      "cell_type": "code",
      "execution_count": null,
      "metadata": {
        "id": "8tervMFMp-2N"
      },
      "outputs": [],
      "source": [
        "geemap.csv_to_df(nlcd_stats)"
      ],
      "id": "8tervMFMp-2N"
    },
    {
      "cell_type": "markdown",
      "metadata": {
        "id": "ZbhryN9Wp-2O"
      },
      "source": [
        "Calculate the percentage of each land cover type in each state."
      ],
      "id": "ZbhryN9Wp-2O"
    },
    {
      "cell_type": "code",
      "execution_count": null,
      "metadata": {
        "id": "UHng4f38p-2O"
      },
      "outputs": [],
      "source": [
        "nlcd_stats = 'nlcd_stats_pct.csv'\n",
        "\n",
        "geemap.zonal_stats_by_group(\n",
        "    landcover,\n",
        "    states,\n",
        "    nlcd_stats,\n",
        "    stat_type='PERCENTAGE',\n",
        "    denominator=1e6,\n",
        "    decimal_places=2,\n",
        ")"
      ],
      "id": "UHng4f38p-2O"
    },
    {
      "cell_type": "markdown",
      "metadata": {
        "id": "HgNHROqhp-2O"
      },
      "source": [
        "#### Zonal statistics with two images"
      ],
      "id": "HgNHROqhp-2O"
    },
    {
      "cell_type": "code",
      "execution_count": null,
      "metadata": {
        "id": "icNACVIXp-2O"
      },
      "outputs": [],
      "source": [
        "geemap.csv_to_df(nlcd_stats)"
      ],
      "id": "icNACVIXp-2O"
    },
    {
      "cell_type": "markdown",
      "metadata": {
        "id": "GUjQvyJTp-2O"
      },
      "source": [
        "#### Zonal statistics by zone\n",
        "\n",
        "The zonal statistics by zone algorithm is similar to the zonal statistics by group algorithm, but it takes an image as the zone input instead of a feature collection."
      ],
      "id": "GUjQvyJTp-2O"
    },
    {
      "cell_type": "code",
      "execution_count": null,
      "metadata": {
        "id": "BhXbQBR2p-2O"
      },
      "outputs": [],
      "source": [
        "Map = geemap.Map(center=[40, -100], zoom=4)\n",
        "dem = ee.Image('USGS/3DEP/10m')\n",
        "vis = {'min': 0, 'max': 4000, 'palette': 'terrain'}\n",
        "Map.addLayer(dem, vis, 'DEM')\n",
        "Map"
      ],
      "id": "BhXbQBR2p-2O"
    },
    {
      "cell_type": "code",
      "execution_count": null,
      "metadata": {
        "id": "SPB4x6Dlp-2P"
      },
      "outputs": [],
      "source": [
        "landcover = ee.Image(\"USGS/NLCD_RELEASES/2019_REL/NLCD/2019\").select('landcover')\n",
        "Map.addLayer(landcover, {}, 'NLCD 2019')\n",
        "Map.add_legend(title='NLCD Land Cover Classification', builtin_legend='NLCD')"
      ],
      "id": "SPB4x6Dlp-2P"
    },
    {
      "cell_type": "markdown",
      "metadata": {
        "id": "a_0gV4Fep-2P"
      },
      "source": [
        "Computer the mean elevation of each land cover type."
      ],
      "id": "a_0gV4Fep-2P"
    },
    {
      "cell_type": "code",
      "execution_count": null,
      "metadata": {
        "id": "SpVNGJOUp-2P"
      },
      "outputs": [],
      "source": [
        "stats = geemap.image_stats_by_zone(dem, landcover, reducer='MEAN')\n",
        "stats"
      ],
      "id": "SpVNGJOUp-2P"
    },
    {
      "cell_type": "code",
      "execution_count": null,
      "metadata": {
        "id": "001VzyZ2p-2P"
      },
      "outputs": [],
      "source": [
        "stats.to_csv('mean.csv', index=False)"
      ],
      "id": "001VzyZ2p-2P"
    },
    {
      "cell_type": "markdown",
      "metadata": {
        "id": "pLfWiszAp-2P"
      },
      "source": [
        "Compute the standard deviation of each land cover type."
      ],
      "id": "pLfWiszAp-2P"
    },
    {
      "cell_type": "code",
      "execution_count": null,
      "metadata": {
        "id": "IVTqQHLfp-2Q"
      },
      "outputs": [],
      "source": [
        "geemap.image_stats_by_zone(dem, landcover, out_csv=\"std.csv\", reducer='STD')"
      ],
      "id": "IVTqQHLfp-2Q"
    },
    {
      "cell_type": "code",
      "execution_count": null,
      "metadata": {
        "id": "QRP22tKyp-2Q"
      },
      "outputs": [],
      "source": [
        "geemap.csv_to_df('std.csv')"
      ],
      "id": "QRP22tKyp-2Q"
    },
    {
      "cell_type": "markdown",
      "metadata": {
        "id": "mKJeuKwHp-2Q"
      },
      "source": [
        "### Exercise 3 - Zonal statistics\n",
        "\n",
        "Find out which state has the highest mean temperature on in the United States on June 28, 2023. Relevant Earth Engine assets:\n",
        "\n",
        "- [ee.FeatureCollection(\"TIGER/2018/States\")](https://developers.google.com/earth-engine/datasets/catalog/TIGER_2018_States)\n",
        "- [ee.ImageCollection(\"NOAA/GFS0P25\")](https://developers.google.com/earth-engine/datasets/catalog/NOAA_GFS0P25)\n",
        "\n",
        "![](https://i.imgur.com/GZCHHz3.png)"
      ],
      "id": "mKJeuKwHp-2Q"
    },
    {
      "cell_type": "code",
      "execution_count": null,
      "metadata": {
        "id": "bBCOeRh5p-2Q"
      },
      "outputs": [],
      "source": [],
      "id": "bBCOeRh5p-2Q"
    },
    {
      "cell_type": "markdown",
      "metadata": {
        "id": "h-ItICIQp-2Q"
      },
      "source": [
        "### Coordinate grids and fishnets\n",
        "\n",
        "#### Creating coordinate grids\n",
        "\n",
        "Create a latitudinal grid with a 5-degree interval."
      ],
      "id": "h-ItICIQp-2Q"
    },
    {
      "cell_type": "code",
      "execution_count": null,
      "metadata": {
        "id": "aqneU-eOp-2Q"
      },
      "outputs": [],
      "source": [
        "lat_grid = geemap.latitude_grid(step=5.0, west=-180, east=180, south=-85, north=85)"
      ],
      "id": "aqneU-eOp-2Q"
    },
    {
      "cell_type": "code",
      "execution_count": null,
      "metadata": {
        "id": "yJwCUwg1p-2R"
      },
      "outputs": [],
      "source": [
        "Map = geemap.Map()\n",
        "style = {'fillColor': '00000000'}\n",
        "Map.addLayer(lat_grid.style(**style), {}, 'Latitude Grid')\n",
        "Map"
      ],
      "id": "yJwCUwg1p-2R"
    },
    {
      "cell_type": "code",
      "execution_count": null,
      "metadata": {
        "id": "F520EtnQp-2R"
      },
      "outputs": [],
      "source": [
        "df = geemap.ee_to_df(lat_grid)\n",
        "df.head()"
      ],
      "id": "F520EtnQp-2R"
    },
    {
      "cell_type": "markdown",
      "metadata": {
        "id": "e5tWhWsYp-2R"
      },
      "source": [
        "Create a longitudinal grid with a 5-degree interval."
      ],
      "id": "e5tWhWsYp-2R"
    },
    {
      "cell_type": "code",
      "execution_count": null,
      "metadata": {
        "id": "FC5BZVIHp-2R"
      },
      "outputs": [],
      "source": [
        "lon_grid = geemap.longitude_grid(step=5.0, west=-180, east=180, south=-85, north=85)"
      ],
      "id": "FC5BZVIHp-2R"
    },
    {
      "cell_type": "code",
      "execution_count": null,
      "metadata": {
        "id": "J2Xb7pGvp-2R"
      },
      "outputs": [],
      "source": [
        "Map = geemap.Map()\n",
        "style = {'fillColor': '00000000'}\n",
        "Map.addLayer(lon_grid.style(**style), {}, 'Longitude Grid')\n",
        "Map"
      ],
      "id": "J2Xb7pGvp-2R"
    },
    {
      "cell_type": "markdown",
      "metadata": {
        "id": "dG41CM0Zp-2R"
      },
      "source": [
        "Create a rectangular grid with a 10-degree interval."
      ],
      "id": "dG41CM0Zp-2R"
    },
    {
      "cell_type": "code",
      "execution_count": null,
      "metadata": {
        "id": "O74XJ9SVp-2S"
      },
      "outputs": [],
      "source": [
        "grid = geemap.latlon_grid(\n",
        "    lat_step=10, lon_step=10, west=-180, east=180, south=-85, north=85\n",
        ")"
      ],
      "id": "O74XJ9SVp-2S"
    },
    {
      "cell_type": "code",
      "execution_count": null,
      "metadata": {
        "id": "lish42oxp-2S"
      },
      "outputs": [],
      "source": [
        "Map = geemap.Map()\n",
        "style = {'fillColor': '00000000'}\n",
        "Map.addLayer(grid.style(**style), {}, 'Coordinate Grid')\n",
        "Map"
      ],
      "id": "lish42oxp-2S"
    },
    {
      "cell_type": "markdown",
      "metadata": {
        "id": "OJ0jrgP1p-2S"
      },
      "source": [
        "#### Creating fishnets\n",
        "\n",
        "Create a fishnet based on an Earth Engine geometry."
      ],
      "id": "OJ0jrgP1p-2S"
    },
    {
      "cell_type": "code",
      "execution_count": null,
      "metadata": {
        "id": "nUvxEah6p-2S"
      },
      "outputs": [],
      "source": [
        "Map = geemap.Map()\n",
        "Map"
      ],
      "id": "nUvxEah6p-2S"
    },
    {
      "cell_type": "markdown",
      "metadata": {
        "id": "V8BNUIQOp-2S"
      },
      "source": [
        "Use the drawing tools to draw a polygon on the map above. If no polygon is drawn, the default polygon will be used."
      ],
      "id": "V8BNUIQOp-2S"
    },
    {
      "cell_type": "code",
      "execution_count": null,
      "metadata": {
        "id": "0K65hrpjp-2T"
      },
      "outputs": [],
      "source": [
        "roi = Map.user_roi\n",
        "\n",
        "if roi is None:\n",
        "    roi = ee.Geometry.BBox(-112.8089, 33.7306, -88.5951, 46.6244)\n",
        "    Map.addLayer(roi, {}, 'ROI')\n",
        "    Map.user_roi = None\n",
        "\n",
        "Map.centerObject(roi)"
      ],
      "id": "0K65hrpjp-2T"
    },
    {
      "cell_type": "markdown",
      "metadata": {
        "id": "VBFZeVCLp-2T"
      },
      "source": [
        "Create a fishnet based on a user-drawn polygon with a 2-degree interval."
      ],
      "id": "VBFZeVCLp-2T"
    },
    {
      "cell_type": "code",
      "execution_count": null,
      "metadata": {
        "id": "udD526bvp-2T"
      },
      "outputs": [],
      "source": [
        "fishnet = geemap.fishnet(roi, h_interval=2.0, v_interval=2.0, delta=1)\n",
        "style = {'color': 'blue', 'fillColor': '00000000'}\n",
        "Map.addLayer(fishnet.style(**style), {}, 'Fishnet')"
      ],
      "id": "udD526bvp-2T"
    },
    {
      "cell_type": "markdown",
      "metadata": {
        "id": "-K_ep5zDp-2T"
      },
      "source": [
        "Create a new map."
      ],
      "id": "-K_ep5zDp-2T"
    },
    {
      "cell_type": "code",
      "execution_count": null,
      "metadata": {
        "id": "bZuOrwE7p-2T"
      },
      "outputs": [],
      "source": [
        "Map = geemap.Map()\n",
        "Map"
      ],
      "id": "bZuOrwE7p-2T"
    },
    {
      "cell_type": "markdown",
      "metadata": {
        "id": "flF1XBJnp-2T"
      },
      "source": [
        "Draw a polygon on the map."
      ],
      "id": "flF1XBJnp-2T"
    },
    {
      "cell_type": "code",
      "execution_count": null,
      "metadata": {
        "id": "nCTn--d-p-2U"
      },
      "outputs": [],
      "source": [
        "roi = Map.user_roi\n",
        "\n",
        "if roi is None:\n",
        "    roi = ee.Geometry.Polygon(\n",
        "        [\n",
        "            [\n",
        "                [-64.602356, -1.127399],\n",
        "                [-68.821106, -12.625598],\n",
        "                [-60.647278, -22.498601],\n",
        "                [-47.815247, -21.111406],\n",
        "                [-43.860168, -8.913564],\n",
        "                [-54.582825, -0.775886],\n",
        "                [-60.823059, 0.454555],\n",
        "                [-64.602356, -1.127399],\n",
        "            ]\n",
        "        ]\n",
        "    )\n",
        "    Map.addLayer(roi, {}, 'ROI')\n",
        "\n",
        "Map.centerObject(roi)\n",
        "Map"
      ],
      "id": "nCTn--d-p-2U"
    },
    {
      "cell_type": "markdown",
      "metadata": {
        "id": "Phs2ZKIgp-2U"
      },
      "source": [
        "Create a fishnet based on a user-drawn polygon with specified number of rows and columns."
      ],
      "id": "Phs2ZKIgp-2U"
    },
    {
      "cell_type": "code",
      "execution_count": null,
      "metadata": {
        "id": "1S8CBXuXp-2U"
      },
      "outputs": [],
      "source": [
        "fishnet = geemap.fishnet(roi, rows=6, cols=8, delta=1)\n",
        "style = {'color': 'blue', 'fillColor': '00000000'}\n",
        "Map.addLayer(fishnet.style(**style), {}, 'Fishnet')"
      ],
      "id": "1S8CBXuXp-2U"
    },
    {
      "cell_type": "markdown",
      "metadata": {
        "id": "l4-trLtwp-2U"
      },
      "source": [
        "### Land use and land cover change analysis\n",
        "\n",
        "#### Forest cover mapping\n",
        "\n",
        "We will use the [Hansen Global Forest Change v1.10 (2000-2022) dataset](https://developers.google.com/earth-engine/datasets/catalog/UMD_hansen_global_forest_change_2022_v1_10)."
      ],
      "id": "l4-trLtwp-2U"
    },
    {
      "cell_type": "code",
      "execution_count": null,
      "metadata": {
        "id": "H8l-f7bvp-2U"
      },
      "outputs": [],
      "source": [
        "dataset = ee.Image('UMD/hansen/global_forest_change_2022_v1_10')\n",
        "dataset.bandNames()"
      ],
      "id": "H8l-f7bvp-2U"
    },
    {
      "cell_type": "markdown",
      "metadata": {
        "id": "MQMjNNAGp-2U"
      },
      "source": [
        "Select the imagery for 2000."
      ],
      "id": "MQMjNNAGp-2U"
    },
    {
      "cell_type": "code",
      "execution_count": null,
      "metadata": {
        "id": "GSCsMjh3p-2c"
      },
      "outputs": [],
      "source": [
        "Map = geemap.Map()\n",
        "first_bands = ['first_b50', 'first_b40', 'first_b30']\n",
        "first_image = dataset.select(first_bands)\n",
        "Map.addLayer(first_image, {'bands': first_bands, 'gamma': 1.5}, 'Year 2000 Bands 5/4/3')"
      ],
      "id": "GSCsMjh3p-2c"
    },
    {
      "cell_type": "markdown",
      "metadata": {
        "id": "PrjEfvA-p-2c"
      },
      "source": [
        "Select the imagery for 2022."
      ],
      "id": "PrjEfvA-p-2c"
    },
    {
      "cell_type": "code",
      "execution_count": null,
      "metadata": {
        "id": "xSz47ZkCp-2d"
      },
      "outputs": [],
      "source": [
        "last_bands = ['last_b50', 'last_b40', 'last_b30']\n",
        "last_image = dataset.select(last_bands)\n",
        "Map.addLayer(last_image, {'bands': last_bands, 'gamma': 1.5}, 'Year 2022 Bands 5/4/3')"
      ],
      "id": "xSz47ZkCp-2d"
    },
    {
      "cell_type": "markdown",
      "metadata": {
        "id": "K8er-Fs5p-2e"
      },
      "source": [
        "Select the tree cover imagery for 2000."
      ],
      "id": "K8er-Fs5p-2e"
    },
    {
      "cell_type": "code",
      "execution_count": null,
      "metadata": {
        "id": "PXuxkZSlp-2e"
      },
      "outputs": [],
      "source": [
        "treecover = dataset.select(['treecover2000'])\n",
        "treeCoverVisParam = {'min': 0, 'max': 100, 'palette': ['black', 'green']}\n",
        "name = 'Tree cover (%)'\n",
        "Map.addLayer(treecover, treeCoverVisParam, name)\n",
        "Map.add_colorbar(treeCoverVisParam, label=name, layer_name=name)\n",
        "Map.add_layer_manager()\n",
        "Map"
      ],
      "id": "PXuxkZSlp-2e"
    },
    {
      "cell_type": "markdown",
      "metadata": {
        "id": "4IY5Authp-2e"
      },
      "source": [
        "Extract tree cover 2000 by using the threshold of 10%."
      ],
      "id": "4IY5Authp-2e"
    },
    {
      "cell_type": "code",
      "execution_count": null,
      "metadata": {
        "id": "3dgxTY1Tp-2f"
      },
      "outputs": [],
      "source": [
        "threshold = 10\n",
        "treecover_bin = treecover.gte(threshold).selfMask()\n",
        "treeVisParam = {'palette': ['green']}\n",
        "Map.addLayer(treecover_bin, treeVisParam, 'Tree cover bin')"
      ],
      "id": "3dgxTY1Tp-2f"
    },
    {
      "cell_type": "markdown",
      "metadata": {
        "id": "kpwxvvYZp-2f"
      },
      "source": [
        "#### Forest loss and gain mapping\n",
        "\n",
        "Visualize forest loss."
      ],
      "id": "kpwxvvYZp-2f"
    },
    {
      "cell_type": "code",
      "execution_count": null,
      "metadata": {
        "id": "JxkO6LHgp-2f"
      },
      "outputs": [],
      "source": [
        "Map = geemap.Map()\n",
        "Map.add_basemap('Google Hybrid')\n",
        "treeloss_year = dataset.select(['lossyear'])\n",
        "treeLossVisParam = {'min': 0, 'max': 22, 'palette': ['yellow', 'red']}\n",
        "layer_name = 'Tree loss year since 2000'\n",
        "Map.addLayer(treeloss_year, treeLossVisParam, layer_name)\n",
        "Map.add_colorbar(treeLossVisParam, label=layer_name, layer_name=layer_name)\n",
        "Map.add_layer_manager()\n",
        "Map"
      ],
      "id": "JxkO6LHgp-2f"
    },
    {
      "cell_type": "markdown",
      "metadata": {
        "id": "6jAFqcXxp-2g"
      },
      "source": [
        "Compare forest loss and gain."
      ],
      "id": "6jAFqcXxp-2g"
    },
    {
      "cell_type": "code",
      "execution_count": null,
      "metadata": {
        "id": "lBhqsjDpp-2g"
      },
      "outputs": [],
      "source": [
        "Map = geemap.Map()\n",
        "Map.add_basemap('Google Hybrid')\n",
        "treeloss = dataset.select(['loss']).selfMask()\n",
        "treegain = dataset.select(['gain']).selfMask()\n",
        "Map.addLayer(treeloss, {'palette': 'red'}, 'Tree loss')\n",
        "Map.addLayer(treegain, {'palette': 'yellow'}, 'Tree gain')\n",
        "Map.add_layer_manager()\n",
        "Map"
      ],
      "id": "lBhqsjDpp-2g"
    },
    {
      "cell_type": "markdown",
      "metadata": {
        "id": "LuYsRB3bp-2g"
      },
      "source": [
        "#### Zonal statistics by country\n",
        "\n",
        "Compute zonal statistics to find out which country has the largest forest area in 2000.\n",
        "\n",
        "Add a country boundary layer to the map."
      ],
      "id": "LuYsRB3bp-2g"
    },
    {
      "cell_type": "code",
      "execution_count": null,
      "metadata": {
        "id": "L6nwFeLbp-2g"
      },
      "outputs": [],
      "source": [
        "Map = geemap.Map()\n",
        "countries = ee.FeatureCollection(geemap.examples.get_ee_path('countries'))\n",
        "style = {'color': '#000000ff', 'fillColor': '#00000000'}\n",
        "Map.addLayer(countries.style(**style), {}, 'Countries')\n",
        "Map"
      ],
      "id": "L6nwFeLbp-2g"
    },
    {
      "cell_type": "markdown",
      "metadata": {
        "id": "rNMTAlPBp-2g"
      },
      "source": [
        "Compute zonal statistics by country."
      ],
      "id": "rNMTAlPBp-2g"
    },
    {
      "cell_type": "code",
      "execution_count": null,
      "metadata": {
        "id": "e-SdjsnEp-2h"
      },
      "outputs": [],
      "source": [
        "geemap.zonal_stats(\n",
        "    treecover_bin,\n",
        "    countries,\n",
        "    'forest_cover.csv',\n",
        "    stat_type='SUM',\n",
        "    denominator=1e6,\n",
        "    scale=1000,\n",
        ")"
      ],
      "id": "e-SdjsnEp-2h"
    },
    {
      "cell_type": "markdown",
      "metadata": {
        "id": "UFFA610Gp-2h"
      },
      "source": [
        "Create a pie chart to visualize the forest area by country."
      ],
      "id": "UFFA610Gp-2h"
    },
    {
      "cell_type": "code",
      "execution_count": null,
      "metadata": {
        "id": "qKL7-O0xp-2h"
      },
      "outputs": [],
      "source": [
        "geemap.pie_chart(\n",
        "    'forest_cover.csv', names='NAME', values='sum', max_rows=20, height=400\n",
        ")"
      ],
      "id": "qKL7-O0xp-2h"
    },
    {
      "cell_type": "markdown",
      "metadata": {
        "id": "KlGeRJESp-2h"
      },
      "source": [
        "Create a bar chart to visualize the forest area by country."
      ],
      "id": "KlGeRJESp-2h"
    },
    {
      "cell_type": "code",
      "execution_count": null,
      "metadata": {
        "id": "8PUN61oyp-2h"
      },
      "outputs": [],
      "source": [
        "geemap.bar_chart(\n",
        "    'forest_cover.csv',\n",
        "    x='NAME',\n",
        "    y='sum',\n",
        "    max_rows=20,\n",
        "    x_label='Country',\n",
        "    y_label='Forest area (km2)',\n",
        ")"
      ],
      "id": "8PUN61oyp-2h"
    },
    {
      "cell_type": "markdown",
      "metadata": {
        "id": "0hNdSH2Np-2i"
      },
      "source": [
        "Calculate the forest loss area by country."
      ],
      "id": "0hNdSH2Np-2i"
    },
    {
      "cell_type": "code",
      "execution_count": null,
      "metadata": {
        "id": "mmb7f8M8p-2i"
      },
      "outputs": [],
      "source": [
        "geemap.zonal_stats(\n",
        "    treeloss.gt(0),\n",
        "    countries,\n",
        "    'treeloss.csv',\n",
        "    stat_type='SUM',\n",
        "    denominator=1e6,\n",
        "    scale=1000,\n",
        ")"
      ],
      "id": "mmb7f8M8p-2i"
    },
    {
      "cell_type": "markdown",
      "metadata": {
        "id": "9eu8Luh8p-2i"
      },
      "source": [
        "Create a bar chart to visualize the forest loss area by country."
      ],
      "id": "9eu8Luh8p-2i"
    },
    {
      "cell_type": "code",
      "execution_count": null,
      "metadata": {
        "id": "eiDQnOutp-2i"
      },
      "outputs": [],
      "source": [
        "geemap.pie_chart('treeloss.csv', names='NAME', values='sum', max_rows=20, height=600)"
      ],
      "id": "eiDQnOutp-2i"
    },
    {
      "cell_type": "markdown",
      "metadata": {
        "id": "iIXt_dw4p-2j"
      },
      "source": [
        "Create a bar chart to visualize the forest loss area by country."
      ],
      "id": "iIXt_dw4p-2j"
    },
    {
      "cell_type": "code",
      "execution_count": null,
      "metadata": {
        "id": "2AjbGTeup-2j"
      },
      "outputs": [],
      "source": [
        "geemap.bar_chart(\n",
        "    'treeloss.csv',\n",
        "    x='NAME',\n",
        "    y='sum',\n",
        "    max_rows=20,\n",
        "    x_label='Country',\n",
        "    y_label='Forest loss area (km2)',\n",
        ")"
      ],
      "id": "2AjbGTeup-2j"
    },
    {
      "cell_type": "markdown",
      "metadata": {
        "id": "Q-JWl_twp-2j"
      },
      "source": [
        "### Exercise 4 - Analyzing forest cover gain and loss\n",
        "\n",
        "Find out which US state has the largest forest gain and loss between 2000 and 2022. Create pie charts and bar charts to show the results. Relevant Earth Engine assets:\n",
        "\n",
        "- [ee.FeatureCollection(\"TIGER/2018/States\")](https://developers.google.com/earth-engine/datasets/catalog/TIGER_2018_States)\n",
        "- [ee.Image(\"UMD/hansen/global_forest_change_2022_v1_10\")](https://developers.google.com/earth-engine/datasets/catalog/UMD_hansen_global_forest_change_2022_v1_10)\n",
        "\n",
        "![](https://i.imgur.com/t5sH5ku.png)"
      ],
      "id": "Q-JWl_twp-2j"
    },
    {
      "cell_type": "code",
      "execution_count": null,
      "metadata": {
        "id": "9ySKb-9Gp-2j"
      },
      "outputs": [],
      "source": [],
      "id": "9ySKb-9Gp-2j"
    },
    {
      "cell_type": "markdown",
      "metadata": {
        "id": "UNXwalVcp-2j"
      },
      "source": [
        "## Break 2 (10 mins)\n",
        "\n",
        "## Exporting Earth Engine data (30 mins)\n",
        "\n",
        "### Exporting images\n",
        "\n",
        "Add a Landsat image to the map."
      ],
      "id": "UNXwalVcp-2j"
    },
    {
      "cell_type": "code",
      "execution_count": null,
      "metadata": {
        "id": "elSTPrLXp-2j"
      },
      "outputs": [],
      "source": [
        "Map = geemap.Map()\n",
        "\n",
        "image = ee.Image('LANDSAT/LC08/C02/T1_TOA/LC08_044034_20140318').select(\n",
        "    ['B5', 'B4', 'B3']\n",
        ")\n",
        "\n",
        "vis_params = {'min': 0, 'max': 0.5, 'gamma': [0.95, 1.1, 1]}\n",
        "\n",
        "Map.centerObject(image)\n",
        "Map.addLayer(image, vis_params, 'Landsat')\n",
        "Map"
      ],
      "id": "elSTPrLXp-2j"
    },
    {
      "cell_type": "markdown",
      "metadata": {
        "id": "3Gii_VLZp-2k"
      },
      "source": [
        "Add a rectangle to the map."
      ],
      "id": "3Gii_VLZp-2k"
    },
    {
      "cell_type": "code",
      "execution_count": null,
      "metadata": {
        "id": "0yLiM_7up-2k"
      },
      "outputs": [],
      "source": [
        "region = ee.Geometry.BBox(-122.5955, 37.5339, -122.0982, 37.8252)\n",
        "fc = ee.FeatureCollection(region)\n",
        "style = {'color': 'ffff00ff', 'fillColor': '00000000'}\n",
        "Map.addLayer(fc.style(**style), {}, 'ROI')"
      ],
      "id": "0yLiM_7up-2k"
    },
    {
      "cell_type": "markdown",
      "metadata": {
        "id": "HY1Ftheep-2k"
      },
      "source": [
        "To local drive"
      ],
      "id": "HY1Ftheep-2k"
    },
    {
      "cell_type": "code",
      "execution_count": null,
      "metadata": {
        "id": "8_9Q1jGMp-2k"
      },
      "outputs": [],
      "source": [
        "geemap.ee_export_image(image, filename=\"landsat.tif\", scale=30, region=region)"
      ],
      "id": "8_9Q1jGMp-2k"
    },
    {
      "cell_type": "markdown",
      "metadata": {
        "id": "j4VP_Jvop-2k"
      },
      "source": [
        "Check image projection."
      ],
      "id": "j4VP_Jvop-2k"
    },
    {
      "cell_type": "code",
      "execution_count": null,
      "metadata": {
        "id": "YhU4_bhpp-2k"
      },
      "outputs": [],
      "source": [
        "projection = image.select(0).projection().getInfo()\n",
        "projection"
      ],
      "id": "YhU4_bhpp-2k"
    },
    {
      "cell_type": "code",
      "execution_count": null,
      "metadata": {
        "id": "grk0x9Kgp-2l"
      },
      "outputs": [],
      "source": [
        "crs = projection['crs']\n",
        "crs_transform = projection['transform']"
      ],
      "id": "grk0x9Kgp-2l"
    },
    {
      "cell_type": "markdown",
      "metadata": {
        "id": "vWp2WBzOp-2l"
      },
      "source": [
        "Specify region, crs, and crs_transform."
      ],
      "id": "vWp2WBzOp-2l"
    },
    {
      "cell_type": "code",
      "execution_count": null,
      "metadata": {
        "id": "NKQ6LH7Lp-2l"
      },
      "outputs": [],
      "source": [
        "geemap.ee_export_image(\n",
        "    image,\n",
        "    filename=\"landsat_crs.tif\",\n",
        "    crs=crs,\n",
        "    crs_transform=crs_transform,\n",
        "    region=region,\n",
        ")"
      ],
      "id": "NKQ6LH7Lp-2l"
    },
    {
      "cell_type": "markdown",
      "metadata": {
        "id": "uF8dEFubp-2m"
      },
      "source": [
        "To Google Drive"
      ],
      "id": "uF8dEFubp-2m"
    },
    {
      "cell_type": "code",
      "execution_count": null,
      "metadata": {
        "id": "wNu4skdRp-2m"
      },
      "outputs": [],
      "source": [
        "geemap.ee_export_image_to_drive(\n",
        "    image, description='landsat', folder='export', region=region, scale=30\n",
        ")"
      ],
      "id": "wNu4skdRp-2m"
    },
    {
      "cell_type": "markdown",
      "metadata": {
        "id": "BByjVaE5p-2m"
      },
      "source": [
        "### Exporting image collections"
      ],
      "id": "BByjVaE5p-2m"
    },
    {
      "cell_type": "code",
      "execution_count": null,
      "metadata": {
        "id": "ixbM8FXzp-2m"
      },
      "outputs": [],
      "source": [
        "point = ee.Geometry.Point(-99.2222, 46.7816)\n",
        "collection = (\n",
        "    ee.ImageCollection('USDA/NAIP/DOQQ')\n",
        "    .filterBounds(point)\n",
        "    .filterDate('2008-01-01', '2018-01-01')\n",
        "    .filter(ee.Filter.listContains(\"system:band_names\", \"N\"))\n",
        ")"
      ],
      "id": "ixbM8FXzp-2m"
    },
    {
      "cell_type": "code",
      "execution_count": null,
      "metadata": {
        "id": "qPz39Qpqp-2n"
      },
      "outputs": [],
      "source": [
        "collection.aggregate_array('system:index')"
      ],
      "id": "qPz39Qpqp-2n"
    },
    {
      "cell_type": "markdown",
      "metadata": {
        "id": "sDcAELDBp-2n"
      },
      "source": [
        "To local drive"
      ],
      "id": "sDcAELDBp-2n"
    },
    {
      "cell_type": "code",
      "execution_count": null,
      "metadata": {
        "id": "uZYno6gOp-2n"
      },
      "outputs": [],
      "source": [
        "geemap.ee_export_image_collection(collection, out_dir='.', scale=10)"
      ],
      "id": "uZYno6gOp-2n"
    },
    {
      "cell_type": "markdown",
      "metadata": {
        "id": "_KBWqhilp-2n"
      },
      "source": [
        "To Google Drive"
      ],
      "id": "_KBWqhilp-2n"
    },
    {
      "cell_type": "code",
      "execution_count": null,
      "metadata": {
        "id": "RbOjpmCgp-2n"
      },
      "outputs": [],
      "source": [
        "geemap.ee_export_image_collection_to_drive(collection, folder='export', scale=10)"
      ],
      "id": "RbOjpmCgp-2n"
    },
    {
      "cell_type": "markdown",
      "metadata": {
        "id": "Rdc4A_adp-2o"
      },
      "source": [
        "### Exporting feature collections"
      ],
      "id": "Rdc4A_adp-2o"
    },
    {
      "cell_type": "code",
      "execution_count": null,
      "metadata": {
        "id": "t-5B42t2p-2o"
      },
      "outputs": [],
      "source": [
        "Map = geemap.Map()\n",
        "fc = ee.FeatureCollection('USDOS/LSIB_SIMPLE/2017').filter(\n",
        "    ee.Filter.eq('country_na', 'Germany')\n",
        ")\n",
        "Map.addLayer(fc, {}, \"Germany\")\n",
        "Map.centerObject(fc)\n",
        "Map"
      ],
      "id": "t-5B42t2p-2o"
    },
    {
      "cell_type": "markdown",
      "metadata": {
        "id": "taBcfPmcp-2o"
      },
      "source": [
        "To local drive"
      ],
      "id": "taBcfPmcp-2o"
    },
    {
      "cell_type": "code",
      "execution_count": null,
      "metadata": {
        "id": "5YqYG6Sup-2o"
      },
      "outputs": [],
      "source": [
        "geemap.ee_to_shp(fc, filename='Germany.shp', selectors=None)"
      ],
      "id": "5YqYG6Sup-2o"
    },
    {
      "cell_type": "code",
      "execution_count": null,
      "metadata": {
        "id": "fqDK6-g8p-2o"
      },
      "outputs": [],
      "source": [
        "geemap.ee_export_vector(fc, filename='Germany2.shp')"
      ],
      "id": "fqDK6-g8p-2o"
    },
    {
      "cell_type": "code",
      "execution_count": null,
      "metadata": {
        "id": "S1lUppqDp-2o"
      },
      "outputs": [],
      "source": [
        "geemap.ee_to_geojson(fc, filename='Germany.geojson')"
      ],
      "id": "S1lUppqDp-2o"
    },
    {
      "cell_type": "code",
      "execution_count": null,
      "metadata": {
        "id": "bJuDcH2kp-2p"
      },
      "outputs": [],
      "source": [
        "geemap.ee_to_csv(fc, filename='Germany.csv')"
      ],
      "id": "bJuDcH2kp-2p"
    },
    {
      "cell_type": "code",
      "execution_count": null,
      "metadata": {
        "id": "qMmRN6azp-2p"
      },
      "outputs": [],
      "source": [
        "gdf = geemap.ee_to_gdf(fc)\n",
        "gdf"
      ],
      "id": "qMmRN6azp-2p"
    },
    {
      "cell_type": "code",
      "execution_count": null,
      "metadata": {
        "id": "fqwSDWVXp-2p"
      },
      "outputs": [],
      "source": [
        "df = geemap.ee_to_df(fc)\n",
        "df"
      ],
      "id": "fqwSDWVXp-2p"
    },
    {
      "cell_type": "markdown",
      "metadata": {
        "id": "mWyWKJFWp-2p"
      },
      "source": [
        "To Google Drive"
      ],
      "id": "mWyWKJFWp-2p"
    },
    {
      "cell_type": "code",
      "execution_count": null,
      "metadata": {
        "id": "4yV0ZFffp-2p"
      },
      "outputs": [],
      "source": [
        "geemap.ee_export_vector_to_drive(\n",
        "    fc, description=\"germany\", fileFormat='SHP', folder=\"export\"\n",
        ")"
      ],
      "id": "4yV0ZFffp-2p"
    },
    {
      "cell_type": "markdown",
      "metadata": {
        "id": "WfuixsJ0p-2p"
      },
      "source": [
        "### Exercise 5 - Exporting images by a fishnet\n",
        "\n",
        "Create a fishnet with a 4-degree interval based on the extent of `[-112.5439, 34.0891, -85.0342, 49.6858]`. Use the fishnet to download the Landsat 7 image tiles by the fishnet using the `geemap.download_ee_image_tiles()` and `geemap.download_ee_image_tiles_parallel()` functions. Relevant Earth Engine assets:\n",
        "\n",
        "- `ee.Image('LANDSAT/LE7_TOA_5YEAR/1999_2003')`\n",
        "\n",
        "![](https://i.imgur.com/L1IH3fq.png)"
      ],
      "id": "WfuixsJ0p-2p"
    },
    {
      "cell_type": "code",
      "execution_count": null,
      "metadata": {
        "id": "1sB0SHbup-2q"
      },
      "outputs": [],
      "source": [
        "Map = geemap.Map(center=[40, -100], zoom=4)\n",
        "image = ee.Image('LANDSAT/LE7_TOA_5YEAR/1999_2003').select(['B4', 'B3', 'B2'])\n",
        "Map.addLayer(image, {'min': 20, 'max': 200, 'gamma': 2.0}, 'Landsat')\n",
        "region = ee.Geometry.BBox(-112.5439, 34.0891, -85.0342, 49.6858)\n",
        "Map.addLayer(region, {}, 'ROI')\n",
        "Map.centerObject(region)\n",
        "Map"
      ],
      "id": "1sB0SHbup-2q"
    },
    {
      "cell_type": "code",
      "execution_count": null,
      "metadata": {
        "id": "IvDBZblrp-2q"
      },
      "outputs": [],
      "source": [
        "fishnet = geemap.fishnet(region, h_interval=4.0, v_interval=4.0, delta=0.5)\n",
        "style = {'color': 'ffff00ff', 'fillColor': '00000000'}\n",
        "Map.addLayer(fishnet.style(**style), {}, 'Fishnet')"
      ],
      "id": "IvDBZblrp-2q"
    },
    {
      "cell_type": "code",
      "execution_count": null,
      "metadata": {
        "id": "pV19A5A7p-2q"
      },
      "outputs": [],
      "source": [
        "geemap.download_ee_image_tiles(\n",
        "    image, fishnet, out_dir='tiles', scale=1000, crs='EPSG:3857'\n",
        ")"
      ],
      "id": "pV19A5A7p-2q"
    },
    {
      "cell_type": "code",
      "execution_count": null,
      "metadata": {
        "id": "AH9BKIw7p-2q"
      },
      "outputs": [],
      "source": [
        "geemap.download_ee_image_tiles_parallel(\n",
        "    image, fishnet, out_dir='tiles', scale=1000, crs='EPSG:3857'\n",
        ")"
      ],
      "id": "AH9BKIw7p-2q"
    },
    {
      "cell_type": "markdown",
      "metadata": {
        "id": "8yEjpAXPp-2r"
      },
      "source": [
        "\n",
        "## Creating Satellite timelapse animations (30 mins)\n",
        "\n",
        "### Creating satellite timeseries\n",
        "\n",
        "Use the [Harmonized Sentinel-2 MSI](https://developers.google.com/earth-engine/datasets/catalog/COPERNICUS_S2_HARMONIZED) dataset to create a timeseries for a given location."
      ],
      "id": "8yEjpAXPp-2r"
    },
    {
      "cell_type": "code",
      "execution_count": null,
      "metadata": {
        "id": "haocOdP3p-2r"
      },
      "outputs": [],
      "source": [
        "collection = ee.ImageCollection(\"COPERNICUS/S2_HARMONIZED\").filterMetadata(\n",
        "    'CLOUDY_PIXEL_PERCENTAGE', 'less_than', 10\n",
        ")"
      ],
      "id": "haocOdP3p-2r"
    },
    {
      "cell_type": "markdown",
      "metadata": {
        "id": "z6k_KztOp-2r"
      },
      "source": [
        "Specify the location of interest and date range."
      ],
      "id": "z6k_KztOp-2r"
    },
    {
      "cell_type": "code",
      "execution_count": null,
      "metadata": {
        "id": "_FU86-THp-2r"
      },
      "outputs": [],
      "source": [
        "start_date = '2016-01-01'\n",
        "end_date = '2022-12-31'\n",
        "region = ee.Geometry.BBox(-122.5549, 37.6968, -122.3446, 37.8111)"
      ],
      "id": "_FU86-THp-2r"
    },
    {
      "cell_type": "markdown",
      "metadata": {
        "id": "JbDQ5XB5p-2r"
      },
      "source": [
        "Create an annual composite."
      ],
      "id": "JbDQ5XB5p-2r"
    },
    {
      "cell_type": "code",
      "execution_count": null,
      "metadata": {
        "id": "epHx-EA-p-2r"
      },
      "outputs": [],
      "source": [
        "images = geemap.create_timeseries(\n",
        "    collection, start_date, end_date, region, frequency='year', reducer='median'\n",
        ")\n",
        "images"
      ],
      "id": "epHx-EA-p-2r"
    },
    {
      "cell_type": "markdown",
      "metadata": {
        "id": "xC2wo5dLp-2r"
      },
      "source": [
        "Display the timeseries."
      ],
      "id": "xC2wo5dLp-2r"
    },
    {
      "cell_type": "code",
      "execution_count": null,
      "metadata": {
        "id": "rVCLjSxJp-2s"
      },
      "outputs": [],
      "source": [
        "Map = geemap.Map()\n",
        "\n",
        "vis_params = {\"min\": 0, \"max\": 4000, \"bands\": [\"B8\", \"B4\", \"B3\"]}\n",
        "labels = [str(y) for y in range(2016, 2023)]\n",
        "\n",
        "Map.addLayer(images, vis_params, \"Sentinel-2\", False)\n",
        "Map.add_time_slider(images, vis_params, time_interval=2, labels=labels)\n",
        "Map.centerObject(region)\n",
        "Map"
      ],
      "id": "rVCLjSxJp-2s"
    },
    {
      "cell_type": "markdown",
      "metadata": {
        "id": "KRv_aPpkp-2s"
      },
      "source": [
        "### Creating satellite timelapse animations\n",
        "\n",
        "#### NAIP timelapse"
      ],
      "id": "KRv_aPpkp-2s"
    },
    {
      "cell_type": "code",
      "execution_count": null,
      "metadata": {
        "id": "CT2A9nu_p-2s"
      },
      "outputs": [],
      "source": [
        "Map = geemap.Map(center=[40, -100], zoom=4)\n",
        "Map"
      ],
      "id": "CT2A9nu_p-2s"
    },
    {
      "cell_type": "code",
      "execution_count": null,
      "metadata": {
        "id": "TymyfzgNp-2s"
      },
      "outputs": [],
      "source": [
        "roi = Map.user_roi\n",
        "if roi is None:\n",
        "    roi = ee.Geometry.BBox(-99.1019, 47.1274, -99.0334, 47.1562)\n",
        "    Map.addLayer(roi, {}, 'ROI')\n",
        "    Map.centerObject(roi)"
      ],
      "id": "TymyfzgNp-2s"
    },
    {
      "cell_type": "code",
      "execution_count": null,
      "metadata": {
        "id": "vdXBiM0wp-2s"
      },
      "outputs": [],
      "source": [
        "collection = geemap.naip_timeseries(roi, start_year=2009, end_year=2022, RGBN=True)"
      ],
      "id": "vdXBiM0wp-2s"
    },
    {
      "cell_type": "code",
      "execution_count": null,
      "metadata": {
        "id": "z2eCW5_mp-2t"
      },
      "outputs": [],
      "source": [
        "years = geemap.image_dates(collection, date_format='YYYY').getInfo()\n",
        "print(years)"
      ],
      "id": "z2eCW5_mp-2t"
    },
    {
      "cell_type": "code",
      "execution_count": null,
      "metadata": {
        "id": "lfAf6zyIp-2t"
      },
      "outputs": [],
      "source": [
        "size = len(years)\n",
        "images = collection.toList(size)\n",
        "for i in range(size):\n",
        "    image = ee.Image(images.get(i))\n",
        "    Map.addLayer(image, {'bands': ['N', 'R', 'G']}, years[i])\n",
        "Map"
      ],
      "id": "lfAf6zyIp-2t"
    },
    {
      "cell_type": "code",
      "execution_count": null,
      "metadata": {
        "id": "acBWEVbSp-2t"
      },
      "outputs": [],
      "source": [
        "timelapse = geemap.naip_timelapse(\n",
        "    roi,\n",
        "    out_gif=\"naip.gif\",\n",
        "    bands=['N', 'R', 'G'],\n",
        "    frames_per_second=3,\n",
        "    title='NAIP Timelapse',\n",
        ")\n",
        "geemap.show_image(timelapse)"
      ],
      "id": "acBWEVbSp-2t"
    },
    {
      "cell_type": "markdown",
      "metadata": {
        "id": "8fogklm1p-2t"
      },
      "source": [
        "#### Landsat timelapse"
      ],
      "id": "8fogklm1p-2t"
    },
    {
      "cell_type": "code",
      "execution_count": null,
      "metadata": {
        "id": "4dWnjKuIp-2t"
      },
      "outputs": [],
      "source": [
        "Map = geemap.Map()\n",
        "Map"
      ],
      "id": "4dWnjKuIp-2t"
    },
    {
      "cell_type": "markdown",
      "metadata": {
        "id": "av2uNUwrp-2u"
      },
      "source": [
        "Pan and zoom the map to an area of interest. Use the drawing tools to draw a rectangle on the map. If no rectangle is drawn, the default rectangle shown below will be used."
      ],
      "id": "av2uNUwrp-2u"
    },
    {
      "cell_type": "code",
      "execution_count": null,
      "metadata": {
        "id": "DmjdUmWZp-2u"
      },
      "outputs": [],
      "source": [
        "roi = Map.user_roi\n",
        "if roi is None:\n",
        "    roi = ee.Geometry.BBox(-74.7222, -8.5867, -74.1596, -8.2824)\n",
        "    Map.addLayer(roi)\n",
        "    Map.centerObject(roi)"
      ],
      "id": "DmjdUmWZp-2u"
    },
    {
      "cell_type": "code",
      "execution_count": null,
      "metadata": {
        "id": "PCl_DXjHp-2u"
      },
      "outputs": [],
      "source": [
        "timelapse = geemap.landsat_timelapse(\n",
        "    roi,\n",
        "    out_gif='landsat.gif',\n",
        "    start_year=1984,\n",
        "    end_year=2022,\n",
        "    start_date='01-01',\n",
        "    end_date='12-31',\n",
        "    bands=['SWIR1', 'NIR', 'Red'],\n",
        "    frames_per_second=5,\n",
        "    title='Landsat Timelapse',\n",
        "    progress_bar_color='blue',\n",
        "    mp4=True,\n",
        ")\n",
        "geemap.show_image(timelapse)"
      ],
      "id": "PCl_DXjHp-2u"
    },
    {
      "cell_type": "code",
      "execution_count": null,
      "metadata": {
        "id": "u0DeaILQp-2u"
      },
      "outputs": [],
      "source": [
        "Map = geemap.Map()\n",
        "roi = ee.Geometry.BBox(-115.5541, 35.8044, -113.9035, 36.5581)\n",
        "Map.addLayer(roi)\n",
        "Map.centerObject(roi)\n",
        "Map"
      ],
      "id": "u0DeaILQp-2u"
    },
    {
      "cell_type": "code",
      "execution_count": null,
      "metadata": {
        "id": "vblj2CNRp-2u"
      },
      "outputs": [],
      "source": [
        "timelapse = geemap.landsat_timelapse(\n",
        "    roi,\n",
        "    out_gif='las_vegas.gif',\n",
        "    start_year=1984,\n",
        "    end_year=2022,\n",
        "    bands=['NIR', 'Red', 'Green'],\n",
        "    frames_per_second=5,\n",
        "    title='Las Vegas, NV',\n",
        "    font_color='blue',\n",
        ")\n",
        "geemap.show_image(timelapse)"
      ],
      "id": "vblj2CNRp-2u"
    },
    {
      "cell_type": "code",
      "execution_count": null,
      "metadata": {
        "id": "urpA7h6dp-2u"
      },
      "outputs": [],
      "source": [
        "Map = geemap.Map()\n",
        "roi = ee.Geometry.BBox(113.8252, 22.1988, 114.0851, 22.3497)\n",
        "Map.addLayer(roi)\n",
        "Map.centerObject(roi)\n",
        "Map"
      ],
      "id": "urpA7h6dp-2u"
    },
    {
      "cell_type": "code",
      "execution_count": null,
      "metadata": {
        "id": "rP9OIm24p-2v"
      },
      "outputs": [],
      "source": [
        "timelapse = geemap.landsat_timelapse(\n",
        "    roi,\n",
        "    out_gif='hong_kong.gif',\n",
        "    start_year=1990,\n",
        "    end_year=2022,\n",
        "    start_date='01-01',\n",
        "    end_date='12-31',\n",
        "    bands=['SWIR1', 'NIR', 'Red'],\n",
        "    frames_per_second=3,\n",
        "    title='Hong Kong',\n",
        ")\n",
        "geemap.show_image(timelapse)"
      ],
      "id": "rP9OIm24p-2v"
    },
    {
      "cell_type": "markdown",
      "metadata": {
        "id": "dSMEpfbup-2v"
      },
      "source": [
        "#### Sentinel-2 timelapse"
      ],
      "id": "dSMEpfbup-2v"
    },
    {
      "cell_type": "code",
      "execution_count": null,
      "metadata": {
        "id": "EWR7HA3np-2v"
      },
      "outputs": [],
      "source": [
        "Map = geemap.Map()\n",
        "Map"
      ],
      "id": "EWR7HA3np-2v"
    },
    {
      "cell_type": "markdown",
      "metadata": {
        "id": "_Qpej_5Op-2v"
      },
      "source": [
        "Pan and zoom the map to an area of interest. Use the drawing tools to draw a rectangle on the map. If no rectangle is drawn, the default rectangle shown below will be used."
      ],
      "id": "_Qpej_5Op-2v"
    },
    {
      "cell_type": "code",
      "execution_count": null,
      "metadata": {
        "id": "f4LEMB2Jp-2v"
      },
      "outputs": [],
      "source": [
        "roi = Map.user_roi\n",
        "if roi is None:\n",
        "    roi = ee.Geometry.BBox(-74.7222, -8.5867, -74.1596, -8.2824)\n",
        "    Map.addLayer(roi)\n",
        "    Map.centerObject(roi)"
      ],
      "id": "f4LEMB2Jp-2v"
    },
    {
      "cell_type": "code",
      "execution_count": null,
      "metadata": {
        "id": "bY2Tu18cp-2v"
      },
      "outputs": [],
      "source": [
        "timelapse = geemap.sentinel2_timelapse(\n",
        "    roi,\n",
        "    out_gif='sentinel2.gif',\n",
        "    start_year=2016,\n",
        "    end_year=2021,\n",
        "    start_date='01-01',\n",
        "    end_date='12-31',\n",
        "    frequency='year',\n",
        "    bands=['SWIR1', 'NIR', 'Red'],\n",
        "    frames_per_second=3,\n",
        "    title='Sentinel-2 Timelapse',\n",
        ")\n",
        "geemap.show_image(timelapse)"
      ],
      "id": "bY2Tu18cp-2v"
    },
    {
      "cell_type": "markdown",
      "metadata": {
        "id": "H_84sZ91p-2w"
      },
      "source": [
        "#### MODIS timelapse\n",
        "\n",
        "MODIS vegetation indices"
      ],
      "id": "H_84sZ91p-2w"
    },
    {
      "cell_type": "code",
      "execution_count": null,
      "metadata": {
        "id": "o-6cEstYp-2w"
      },
      "outputs": [],
      "source": [
        "Map = geemap.Map()\n",
        "Map"
      ],
      "id": "o-6cEstYp-2w"
    },
    {
      "cell_type": "code",
      "execution_count": null,
      "metadata": {
        "id": "P13EoHXUp-2w"
      },
      "outputs": [],
      "source": [
        "roi = Map.user_roi\n",
        "if roi is None:\n",
        "    roi = ee.Geometry.BBox(-18.6983, -36.1630, 52.2293, 38.1446)\n",
        "    Map.addLayer(roi)\n",
        "    Map.centerObject(roi)"
      ],
      "id": "P13EoHXUp-2w"
    },
    {
      "cell_type": "code",
      "execution_count": null,
      "metadata": {
        "id": "qx-dTrIKp-2w"
      },
      "outputs": [],
      "source": [
        "timelapse = geemap.modis_ndvi_timelapse(\n",
        "    roi,\n",
        "    out_gif='ndvi.gif',\n",
        "    data='Terra',\n",
        "    band='NDVI',\n",
        "    start_date='2000-01-01',\n",
        "    end_date='2022-12-31',\n",
        "    frames_per_second=3,\n",
        "    title='MODIS NDVI Timelapse',\n",
        "    overlay_data='countries',\n",
        ")\n",
        "geemap.show_image(timelapse)"
      ],
      "id": "qx-dTrIKp-2w"
    },
    {
      "cell_type": "markdown",
      "metadata": {
        "id": "qtc7SzVtp-2w"
      },
      "source": [
        "MODIS temperature"
      ],
      "id": "qtc7SzVtp-2w"
    },
    {
      "cell_type": "code",
      "execution_count": null,
      "metadata": {
        "id": "Wuy2Bv8yp-2x"
      },
      "outputs": [],
      "source": [
        "Map = geemap.Map()\n",
        "Map"
      ],
      "id": "Wuy2Bv8yp-2x"
    },
    {
      "cell_type": "code",
      "execution_count": null,
      "metadata": {
        "id": "T3Rfb47tp-2x"
      },
      "outputs": [],
      "source": [
        "roi = Map.user_roi\n",
        "if roi is None:\n",
        "    roi = ee.Geometry.BBox(-171.21, -57.13, 177.53, 79.99)\n",
        "    Map.addLayer(roi)\n",
        "    Map.centerObject(roi)"
      ],
      "id": "T3Rfb47tp-2x"
    },
    {
      "cell_type": "code",
      "execution_count": null,
      "metadata": {
        "id": "IurBFBORp-2x"
      },
      "outputs": [],
      "source": [
        "timelapse = geemap.modis_ocean_color_timelapse(\n",
        "    satellite='Aqua',\n",
        "    start_date='2018-01-01',\n",
        "    end_date='2020-12-31',\n",
        "    roi=roi,\n",
        "    frequency='month',\n",
        "    out_gif='temperature.gif',\n",
        "    overlay_data='continents',\n",
        "    overlay_color='yellow',\n",
        "    overlay_opacity=0.5,\n",
        ")\n",
        "geemap.show_image(timelapse)"
      ],
      "id": "IurBFBORp-2x"
    },
    {
      "cell_type": "markdown",
      "metadata": {
        "id": "ZfFJNvprp-2x"
      },
      "source": [
        "#### GOES timelapse"
      ],
      "id": "ZfFJNvprp-2x"
    },
    {
      "cell_type": "code",
      "execution_count": null,
      "metadata": {
        "id": "fqfFV4DVp-2x"
      },
      "outputs": [],
      "source": [
        "roi = ee.Geometry.BBox(167.1898, -28.5757, 202.6258, -12.4411)\n",
        "start_date = \"2022-01-15T03:00:00\"\n",
        "end_date = \"2022-01-15T07:00:00\"\n",
        "data = \"GOES-17\"\n",
        "scan = \"full_disk\""
      ],
      "id": "fqfFV4DVp-2x"
    },
    {
      "cell_type": "code",
      "execution_count": null,
      "metadata": {
        "id": "9D_xN3bup-2y"
      },
      "outputs": [],
      "source": [
        "timelapse = geemap.goes_timelapse(\n",
        "    roi, \"goes.gif\", start_date, end_date, data, scan, framesPerSecond=5\n",
        ")\n",
        "geemap.show_image(timelapse)"
      ],
      "id": "9D_xN3bup-2y"
    },
    {
      "cell_type": "code",
      "execution_count": null,
      "metadata": {
        "id": "o0DP7wWtp-2y"
      },
      "outputs": [],
      "source": [
        "roi = ee.Geometry.BBox(-159.5954, 24.5178, -114.2438, 60.4088)\n",
        "start_date = \"2021-10-24T14:00:00\"\n",
        "end_date = \"2021-10-25T01:00:00\"\n",
        "data = \"GOES-17\"\n",
        "scan = \"full_disk\""
      ],
      "id": "o0DP7wWtp-2y"
    },
    {
      "cell_type": "code",
      "execution_count": null,
      "metadata": {
        "id": "jVX9Wl5Kp-2y"
      },
      "outputs": [],
      "source": [
        "timelapse = geemap.goes_timelapse(\n",
        "    roi, \"hurricane.gif\", start_date, end_date, data, scan, framesPerSecond=5\n",
        ")\n",
        "geemap.show_image(timelapse)"
      ],
      "id": "jVX9Wl5Kp-2y"
    },
    {
      "cell_type": "code",
      "execution_count": null,
      "metadata": {
        "id": "ViDLxsgzp-2y"
      },
      "outputs": [],
      "source": [
        "roi = ee.Geometry.BBox(-121.0034, 36.8488, -117.9052, 39.0490)\n",
        "start_date = \"2020-09-05T15:00:00\"\n",
        "end_date = \"2020-09-06T02:00:00\"\n",
        "data = \"GOES-17\"\n",
        "scan = \"full_disk\""
      ],
      "id": "ViDLxsgzp-2y"
    },
    {
      "cell_type": "code",
      "execution_count": null,
      "metadata": {
        "id": "TcG01GREp-2y"
      },
      "outputs": [],
      "source": [
        "timelapse = geemap.goes_fire_timelapse(\n",
        "    roi, \"fire.gif\", start_date, end_date, data, scan, framesPerSecond=5\n",
        ")\n",
        "geemap.show_image(timelapse)"
      ],
      "id": "TcG01GREp-2y"
    },
    {
      "cell_type": "markdown",
      "metadata": {
        "id": "ayRB7JSxp-2z"
      },
      "source": [
        "### Exercise 6 - Creating timelapse animations\n",
        "\n",
        "Use the geemap timelapse GUI to create a timelapse animation for any location of your choice. Share the timelapse on social media and use the hashtagd such as #EarthEngine and #geemap. See [this](https://i.imgur.com/uFaXD9s.gif) example.\n",
        "\n",
        "![](https://i.imgur.com/vecPydF.png)"
      ],
      "id": "ayRB7JSxp-2z"
    },
    {
      "cell_type": "code",
      "execution_count": null,
      "metadata": {
        "id": "mVBPgEZTp-2z"
      },
      "outputs": [],
      "source": [
        "Map = geemap.Map()\n",
        "Map.add_gui(\"timelapse\")\n",
        "Map"
      ],
      "id": "mVBPgEZTp-2z"
    },
    {
      "cell_type": "markdown",
      "metadata": {
        "id": "l8tb2eC_p-2z"
      },
      "source": [
        "\n",
        "\n",
        "## Break 3 (10 mins)\n",
        "\n",
        "## Building interactive web apps (30 mins)\n",
        "\n",
        "This section is optional. We might not have enough time to cover this section.\n",
        "\n",
        "Follow the instructions [here](https://huggingface.co/spaces/giswqs/solara-geemap) to build an interactive Earth Engine web app with [Solara](https://github.com/widgetti/solara) and geemap. You need to [sign up](https://huggingface.co/join) for a free Hugging Face account to create the web app. It is free and easy to sign up.\n",
        "\n",
        "### Exercise 7 - Building an interactive web app for visualizing land cover change\n",
        "\n",
        "After following the instructions above, you should have a web app that looks like this:\n",
        "\n",
        "![](https://i.imgur.com/uYDUPl0.png)\n",
        "\n",
        "The web app URL should look like this: https://giswqs-solara-geemap.hf.space/split-map."
      ],
      "id": "l8tb2eC_p-2z"
    }
  ],
  "metadata": {
    "kernelspec": {
      "display_name": "Python 3 (ipykernel)",
      "language": "python",
      "name": "python3"
    },
    "language_info": {
      "codemirror_mode": {
        "name": "ipython",
        "version": 3
      },
      "file_extension": ".py",
      "mimetype": "text/x-python",
      "name": "python",
      "nbconvert_exporter": "python",
      "pygments_lexer": "ipython3",
      "version": "3.10.8"
    },
    "colab": {
      "provenance": [],
      "include_colab_link": true
    }
  },
  "nbformat": 4,
  "nbformat_minor": 5
}